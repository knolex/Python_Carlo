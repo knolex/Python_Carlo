{
  "nbformat": 4,
  "nbformat_minor": 0,
  "metadata": {
    "colab": {
      "provenance": [],
      "authorship_tag": "ABX9TyMQu/q/aA8ee43QVEkgphfd",
      "include_colab_link": true
    },
    "kernelspec": {
      "name": "python3",
      "display_name": "Python 3"
    },
    "language_info": {
      "name": "python"
    }
  },
  "cells": [
    {
      "cell_type": "markdown",
      "metadata": {
        "id": "view-in-github",
        "colab_type": "text"
      },
      "source": [
        "<a href=\"https://colab.research.google.com/github/knolex/Python_Carlo/blob/main/fudamentos.ipynb\" target=\"_parent\"><img src=\"https://colab.research.google.com/assets/colab-badge.svg\" alt=\"Open In Colab\"/></a>"
      ]
    },
    {
      "cell_type": "code",
      "execution_count": null,
      "metadata": {
        "id": "ZP-5TnR49s1m"
      },
      "outputs": [],
      "source": [
        "print(\"jean\")\n",
        "print(\"foda\")"
      ]
    },
    {
      "cell_type": "code",
      "source": [
        "a=1\n",
        "#comentário \n",
        "print('jean', 'carlo', 'lucas', end =' pinto', sep=' ')\n"
      ],
      "metadata": {
        "id": "AEEFP62B-Mhl",
        "colab": {
          "base_uri": "https://localhost:8080/"
        },
        "outputId": "cdcec6f1-87ae-423b-f35d-1cbc92333bdd"
      },
      "execution_count": null,
      "outputs": [
        {
          "output_type": "stream",
          "name": "stdout",
          "text": [
            "jean carlo lucas pinto"
          ]
        }
      ]
    },
    {
      "cell_type": "code",
      "source": [],
      "metadata": {
        "id": "oX6_RIr1D7vb"
      },
      "execution_count": null,
      "outputs": []
    },
    {
      "cell_type": "code",
      "source": [
        "print('jean', 'carlo', 'lucas','pinto', sep='\\n')\n"
      ],
      "metadata": {
        "colab": {
          "base_uri": "https://localhost:8080/"
        },
        "id": "EgRj-VWAImlP",
        "outputId": "7b3cbca7-7596-46d6-f37a-ca4bd02b3f42"
      },
      "execution_count": null,
      "outputs": [
        {
          "output_type": "stream",
          "name": "stdout",
          "text": [
            "jean\n",
            "carlo\n",
            "lucas\n",
            "pinto\n"
          ]
        }
      ]
    },
    {
      "cell_type": "code",
      "source": [
        "nome = 'jean carlo lucas pinto'\n",
        "print('Meu nome é {}'.format(nome))\n",
        "print(f'Meu nome é {nome}')\n",
        "print(nome,sep=\"\\n\")"
      ],
      "metadata": {
        "colab": {
          "base_uri": "https://localhost:8080/"
        },
        "id": "od_YIeIjJQba",
        "outputId": "75c50493-7f21-4552-94a5-3772811a3d93"
      },
      "execution_count": null,
      "outputs": [
        {
          "output_type": "stream",
          "name": "stdout",
          "text": [
            "Meu nome é jean carlo lucas pinto\n",
            "Meu nome é jean carlo lucas pinto\n",
            "jean carlo lucas pinto\n"
          ]
        }
      ]
    },
    {
      "cell_type": "code",
      "source": [
        "#%s - string\n",
        "#%d - inteiro\n",
        "#%f - real precisão %.3f\n",
        "nome = \"jean\"\n",
        "texto = \"O seu nome é: \\n\\t %s\" %(nome)\n",
        "print(texto)\n"
      ],
      "metadata": {
        "colab": {
          "base_uri": "https://localhost:8080/"
        },
        "id": "wt8KQlIKVJda",
        "outputId": "10b76b57-006b-4927-d469-46c84bd6f50f"
      },
      "execution_count": null,
      "outputs": [
        {
          "output_type": "stream",
          "name": "stdout",
          "text": [
            "O seu nome é: \n",
            "\t jean\n"
          ]
        }
      ]
    },
    {
      "cell_type": "code",
      "source": [
        "#prioridade not and or\n",
        "dia, mes, ano = 16, 9, 1988\n",
        "data = \"eu nasci no dia %d/%d/%d\" %(dia, mes, ano)\n",
        "print(data)"
      ],
      "metadata": {
        "colab": {
          "base_uri": "https://localhost:8080/"
        },
        "id": "ZIKJibVmC53T",
        "outputId": "3844ea88-e724-4a7d-8444-78e0510c077a"
      },
      "execution_count": null,
      "outputs": [
        {
          "output_type": "stream",
          "name": "stdout",
          "text": [
            "eu nasci no dia 16/9/1988\n"
          ]
        }
      ]
    },
    {
      "cell_type": "markdown",
      "source": [
        "Casting\n"
      ],
      "metadata": {
        "id": "fudf9TO-W9La"
      }
    },
    {
      "cell_type": "code",
      "source": [
        "print(type(nome))\n",
        "print(type(ano))\n",
        "print(float(mes))\n",
        "print(str(dia))\n",
        "print(len(data))"
      ],
      "metadata": {
        "colab": {
          "base_uri": "https://localhost:8080/"
        },
        "id": "BAMRMDxwXOHH",
        "outputId": "d222c9b3-ab34-48e2-cc17-14cee7948d09"
      },
      "execution_count": null,
      "outputs": [
        {
          "output_type": "stream",
          "name": "stdout",
          "text": [
            "<class 'str'>\n",
            "<class 'int'>\n",
            "9.0\n",
            "16\n",
            "25\n"
          ]
        }
      ]
    },
    {
      "cell_type": "markdown",
      "source": [
        "Input"
      ],
      "metadata": {
        "id": "eGV2AMILfMn2"
      }
    },
    {
      "cell_type": "code",
      "source": [
        "var = input()\n",
        "print(var)\n",
        "print(type(var))"
      ],
      "metadata": {
        "colab": {
          "base_uri": "https://localhost:8080/"
        },
        "id": "dBE5J46XfOzf",
        "outputId": "0c6ec1e3-e8db-4dd1-8603-0f00c7deaddc"
      },
      "execution_count": null,
      "outputs": [
        {
          "output_type": "stream",
          "name": "stdout",
          "text": [
            "56\n",
            "56\n",
            "<class 'str'>\n"
          ]
        }
      ]
    },
    {
      "cell_type": "code",
      "source": [
        "entrada = input(\"Digite 1 para sim e 0 para não \")\n",
        "valor = int(entrada)\n",
        "bol = bool(valor)\n",
        "print(bol)"
      ],
      "metadata": {
        "colab": {
          "base_uri": "https://localhost:8080/"
        },
        "id": "6K9tjqvJgZlZ",
        "outputId": "b532ccf2-290c-4003-ec33-d28650739e1e"
      },
      "execution_count": null,
      "outputs": [
        {
          "output_type": "stream",
          "name": "stdout",
          "text": [
            "Digite 1 para sim e 0 para não 0\n",
            "False\n"
          ]
        }
      ]
    },
    {
      "cell_type": "code",
      "source": [
        "#string invertida\n",
        "texto = \"jean fodão\"\n",
        "print(texto[::-1])\n",
        "print(texto[3::-1])"
      ],
      "metadata": {
        "colab": {
          "base_uri": "https://localhost:8080/"
        },
        "id": "W5n8WgLuwk6S",
        "outputId": "6e7bc05d-c2d3-43db-e92b-5128a7707761"
      },
      "execution_count": null,
      "outputs": [
        {
          "output_type": "stream",
          "name": "stdout",
          "text": [
            "oãdof naej\n",
            "naej\n"
          ]
        }
      ]
    },
    {
      "cell_type": "code",
      "source": [
        "#in e not in\n",
        "#len\n",
        "texto = \"Jean fodão demais\"\n",
        "print(\"a\" in texto)\n",
        "print(\"ã\" in texto)\n",
        "print(\"y\" not in texto)\n",
        "print(len(texto))\n"
      ],
      "metadata": {
        "colab": {
          "base_uri": "https://localhost:8080/"
        },
        "id": "lSiQpSGOyuWv",
        "outputId": "b575354b-954b-4d0c-bc89-c95b1958248a"
      },
      "execution_count": null,
      "outputs": [
        {
          "output_type": "stream",
          "name": "stdout",
          "text": [
            "True\n",
            "True\n",
            "True\n",
            "17\n"
          ]
        }
      ]
    },
    {
      "cell_type": "code",
      "source": [
        "#exemplos\n",
        "nome = \"Jean Pinto\"\n",
        "fsrt = nome[:4]\n",
        "last = nome[5:]\n",
        "print(fsrt)\n",
        "print(last)"
      ],
      "metadata": {
        "colab": {
          "base_uri": "https://localhost:8080/"
        },
        "id": "ggzQWSLJz7SN",
        "outputId": "e24a30d8-9d51-46de-9e7f-5ae388a67cad"
      },
      "execution_count": null,
      "outputs": [
        {
          "output_type": "stream",
          "name": "stdout",
          "text": [
            "Jean\n",
            "Pinto\n"
          ]
        }
      ]
    },
    {
      "cell_type": "code",
      "source": [
        "#exemplos\n",
        "var = input()\n",
        "print(var[:-1])"
      ],
      "metadata": {
        "colab": {
          "base_uri": "https://localhost:8080/"
        },
        "id": "EaAVRtGo1D-n",
        "outputId": "30d5d710-db7f-4b60-f7ad-5ffcc5b3ca13"
      },
      "execution_count": null,
      "outputs": [
        {
          "output_type": "stream",
          "name": "stdout",
          "text": [
            "jean\n",
            "je\n"
          ]
        }
      ]
    },
    {
      "cell_type": "code",
      "source": [
        "#exemplos\n",
        "x = input()\n",
        "tem_vogal = (\"a\" in x) or (\"e\" in x) or (\"i\" in x) or (\"o\" in x) or (\"u\" in x)\n",
        "print(tem_vogal)"
      ],
      "metadata": {
        "colab": {
          "base_uri": "https://localhost:8080/"
        },
        "id": "Wm1x5Wr113Vt",
        "outputId": "76913795-4434-4fbc-ebae-773b0c2f4202"
      },
      "execution_count": null,
      "outputs": [
        {
          "output_type": "stream",
          "name": "stdout",
          "text": [
            "kjhgf\n",
            "False\n"
          ]
        }
      ]
    },
    {
      "cell_type": "code",
      "source": [
        "#exemplos\n",
        "##ajsda\n",
        "text = input()\n",
        "text = \"abc\"+text[0:]\n",
        "print(text)"
      ],
      "metadata": {
        "colab": {
          "base_uri": "https://localhost:8080/"
        },
        "id": "659yj1BD3Fpw",
        "outputId": "01bcd0b5-5cd9-49a6-b92d-7b00ec5f18d6"
      },
      "execution_count": null,
      "outputs": [
        {
          "output_type": "stream",
          "name": "stdout",
          "text": [
            "ejiej\n",
            "abcejiej\n"
          ]
        }
      ]
    },
    {
      "cell_type": "markdown",
      "source": [
        "While\n"
      ],
      "metadata": {
        "id": "zcF5hfv7qhW_"
      }
    },
    {
      "cell_type": "code",
      "source": [
        "qtd_num = int(input(\"Quantos números você vai digitar?\"))\n",
        "soma = 0\n",
        "num_lidos = 0\n",
        "while(num_lidos < qtd_num):\n",
        "  num = float(input(\"Digite um número: \"))\n",
        "  soma += num\n",
        "  num_lidos +=1\n",
        "  media = soma / num_lidos\n",
        "\n",
        "print(\"A soma dos números digitados é: %.2f\" %(soma))  \n",
        "print(\"A média é: %.2f\"%(media))"
      ],
      "metadata": {
        "colab": {
          "base_uri": "https://localhost:8080/"
        },
        "id": "4jEgcx1Wqixn",
        "outputId": "4cf088f8-3cf2-421b-a1fc-3ac384264b92"
      },
      "execution_count": null,
      "outputs": [
        {
          "output_type": "stream",
          "name": "stdout",
          "text": [
            "Quantos números você vai digitar?5\n",
            "Digite um número: 12\n",
            "Digite um número: 15\n",
            "Digite um número: 16\n",
            "Digite um número: 11\n",
            "Digite um número: 13\n",
            "A soma dos números digitados é: 67.00\n",
            "A média é: 13.40\n"
          ]
        }
      ]
    },
    {
      "cell_type": "code",
      "source": [
        "texto = input(\"Digite seu texto: \")\n",
        "cont = 0\n",
        "branco = 0\n",
        "while(cont < len(texto)):\n",
        "  print(texto[cont])\n",
        "  if(texto[cont] == \" \"):\n",
        "    branco +=1\n",
        "  cont +=1\n",
        "print(\"espaços em branco: %d\"%(branco))  "
      ],
      "metadata": {
        "colab": {
          "base_uri": "https://localhost:8080/"
        },
        "id": "q3bqDLWLrcPt",
        "outputId": "16ff4932-35da-41d4-e6a9-7c6872df8fce"
      },
      "execution_count": null,
      "outputs": [
        {
          "output_type": "stream",
          "name": "stdout",
          "text": [
            "Digite seu texto: ufam am 2022\n",
            "u\n",
            "f\n",
            "a\n",
            "m\n",
            " \n",
            "a\n",
            "m\n",
            " \n",
            "2\n",
            "0\n",
            "2\n",
            "2\n",
            "espaços em branco: 2\n"
          ]
        }
      ]
    },
    {
      "cell_type": "markdown",
      "source": [
        "For"
      ],
      "metadata": {
        "id": "7xPTCJEYyiLs"
      }
    },
    {
      "cell_type": "code",
      "source": [
        "#range(início, fim, steps)\n",
        "for x in range(0,10,2):\n",
        "  print(x)\n"
      ],
      "metadata": {
        "colab": {
          "base_uri": "https://localhost:8080/"
        },
        "id": "93sdEAlbyjHP",
        "outputId": "defbfc9f-759c-49a4-a9d2-23d92580f282"
      },
      "execution_count": null,
      "outputs": [
        {
          "output_type": "stream",
          "name": "stdout",
          "text": [
            "0\n",
            "2\n",
            "4\n",
            "6\n",
            "8\n"
          ]
        }
      ]
    },
    {
      "cell_type": "code",
      "source": [
        "letra = input(\"digite a letra a ser encontrada: \")\n",
        "\n",
        "if(len(letra)!=1):\n",
        "  print(\"Digite apenas uma letra\")\n",
        "else:\n",
        "  texto = input(\"Digite o texto: \")\n",
        "for i in range(0, len(texto)):\n",
        "  if texto[i] == letra:\n",
        "    print(\"letra %s encontrada na posição %d do texto\"%(letra, i+1))"
      ],
      "metadata": {
        "colab": {
          "base_uri": "https://localhost:8080/"
        },
        "id": "NzCRxGAl35ff",
        "outputId": "7cda148d-5481-4423-c2a7-0940d9c4879e"
      },
      "execution_count": null,
      "outputs": [
        {
          "output_type": "stream",
          "name": "stdout",
          "text": [
            "digite a letra a ser encontrada: h\n",
            "Digite o texto: humano\n",
            "letra h encontrada na posição 1 do texto\n"
          ]
        }
      ]
    },
    {
      "cell_type": "code",
      "source": [
        "texto = input(\"Digite um texto: \")\n",
        "cont = 0\n",
        "for i in texto:\n",
        "  if(i != \" \"):\n",
        "    cont += 1\n",
        "print(\"O texto tem %d caracteres\"%(cont))    \n",
        "\n",
        "\n",
        "\n"
      ],
      "metadata": {
        "colab": {
          "base_uri": "https://localhost:8080/"
        },
        "id": "0epUCWCA7AOS",
        "outputId": "3f6e2c14-787c-44d6-a9d7-6f6a55a2518d"
      },
      "execution_count": null,
      "outputs": [
        {
          "output_type": "stream",
          "name": "stdout",
          "text": [
            "Digite um texto: jean carlo lucas pinto\n",
            "O texto tem 19 caracteres\n"
          ]
        }
      ]
    },
    {
      "cell_type": "code",
      "source": [
        "num = int(input(\"Digite um número :\"))\n",
        "result = 1\n",
        "\n",
        "for x in range(1,num+1):\n",
        "  result *= x\n",
        "\n",
        "print(\"O fatorial do número %d é: %d\"%(num,result))  "
      ],
      "metadata": {
        "colab": {
          "base_uri": "https://localhost:8080/"
        },
        "id": "GuUrlyWYDDM4",
        "outputId": "a2f0d1f1-6c34-4bee-8f77-70ae35fae80c"
      },
      "execution_count": null,
      "outputs": [
        {
          "output_type": "stream",
          "name": "stdout",
          "text": [
            "Digite um número :10\n",
            "O fatorial do número 10 é: 3628800\n"
          ]
        }
      ]
    },
    {
      "cell_type": "code",
      "source": [
        "for num in range(1,31):\n",
        "  e_primo = True\n",
        "  for numero in range(2,num):\n",
        "    if(num % numero == 0):\n",
        "      e_primo = False\n",
        "      break\n",
        "  if(e_primo):\n",
        "    print(\"O número %d é primo\"%(num))\n",
        "  else:\n",
        "    print(\"O número %d NÃO é primo\"%(num))      \n"
      ],
      "metadata": {
        "id": "lP93SGffEAEl"
      },
      "execution_count": null,
      "outputs": []
    },
    {
      "cell_type": "markdown",
      "source": [
        "List"
      ],
      "metadata": {
        "id": "mhx_qOLZPNRN"
      }
    },
    {
      "cell_type": "code",
      "source": [
        "array = [\"a\",'b']\n",
        "arry = list([1,2,3])\n",
        "print(type(arry))\n",
        "print(type(array))"
      ],
      "metadata": {
        "colab": {
          "base_uri": "https://localhost:8080/"
        },
        "id": "88dp0FgXPOK3",
        "outputId": "b7b5e4fc-98a1-497f-9c85-348fa0a324a0"
      },
      "execution_count": null,
      "outputs": [
        {
          "output_type": "stream",
          "name": "stdout",
          "text": [
            "<class 'list'>\n",
            "<class 'list'>\n"
          ]
        }
      ]
    },
    {
      "cell_type": "code",
      "source": [
        "arr = [1,2,5]\n",
        "print(arr)\n",
        "arr.append(6)\n",
        "print(arr)\n",
        "arr.insert(1,\"7\")\n",
        "print(arr)"
      ],
      "metadata": {
        "colab": {
          "base_uri": "https://localhost:8080/"
        },
        "id": "wG0QjQoyR1L1",
        "outputId": "c54bbc48-e63a-40ab-890d-7af72712a773"
      },
      "execution_count": null,
      "outputs": [
        {
          "output_type": "stream",
          "name": "stdout",
          "text": [
            "[1, 2, 5]\n",
            "[1, 2, 5, 6]\n",
            "[1, '7', 2, 5, 6]\n"
          ]
        }
      ]
    },
    {
      "cell_type": "code",
      "source": [
        "vetor = [3,4,5,6]\n",
        "vetor.remove(5)\n",
        "print(vetor)\n",
        "vetor.pop(2)\n",
        "print(vetor)\n",
        "print(len(vetor))\n",
        "vetor.clear()\n",
        "vetor"
      ],
      "metadata": {
        "colab": {
          "base_uri": "https://localhost:8080/"
        },
        "id": "bkdOOqRVTTod",
        "outputId": "bacf3454-787f-4c06-faf5-d6653d0d71c7"
      },
      "execution_count": null,
      "outputs": [
        {
          "output_type": "stream",
          "name": "stdout",
          "text": [
            "[3, 4, 6]\n",
            "[3, 4]\n",
            "2\n"
          ]
        },
        {
          "output_type": "execute_result",
          "data": {
            "text/plain": [
              "[]"
            ]
          },
          "metadata": {},
          "execution_count": 20
        }
      ]
    },
    {
      "cell_type": "code",
      "source": [
        "#count quantas vezes o parametro aparece no array\n",
        "vet = [1,2,2,2,3,True,2.4]\n",
        "print(vet.count(2))\n",
        "print(False in vet)\n",
        "print(2.4 in vet)\n",
        "#index retorna o indice do parametro\n",
        "print(vet.index(2))"
      ],
      "metadata": {
        "colab": {
          "base_uri": "https://localhost:8080/"
        },
        "id": "wh6HewfoUaUq",
        "outputId": "fa92b4bc-69a1-4be2-acad-0f789d3391fc"
      },
      "execution_count": null,
      "outputs": [
        {
          "output_type": "stream",
          "name": "stdout",
          "text": [
            "3\n",
            "False\n",
            "True\n",
            "1\n"
          ]
        }
      ]
    },
    {
      "cell_type": "markdown",
      "source": [
        "SET"
      ],
      "metadata": {
        "id": "y5PIasQgbY37"
      }
    },
    {
      "cell_type": "code",
      "source": [
        "lis_set = {6,8,7}\n",
        "list_set = set({1,2,3})\n",
        "#não suporta modificação list_set[0] = 5\n",
        "list_set.add(6)\n",
        "print(list_set)\n",
        "unido = lis_set.union(list_set)\n",
        "print(unido)\n",
        "intersecao = lis_set.intersection(list_set)\n",
        "print(intersecao)\n",
        "print(lis_set)\n",
        "diferenca = list_set.difference(lis_set)\n",
        "print(diferenca)"
      ],
      "metadata": {
        "colab": {
          "base_uri": "https://localhost:8080/"
        },
        "id": "cu_I4fM3baEc",
        "outputId": "f1dccd26-959d-46b5-8742-fcbe985c9eaf"
      },
      "execution_count": null,
      "outputs": [
        {
          "output_type": "stream",
          "name": "stdout",
          "text": [
            "{1, 2, 3, 6}\n",
            "{1, 2, 3, 6, 7, 8}\n",
            "{6}\n",
            "{8, 6, 7}\n",
            "{1, 2, 3}\n"
          ]
        }
      ]
    },
    {
      "cell_type": "markdown",
      "source": [
        "Tuplas"
      ],
      "metadata": {
        "id": "l_JPlWwIkv8L"
      }
    },
    {
      "cell_type": "code",
      "source": [
        "tup = tuple((\"valor1\",2,\"valor3\"))\n",
        "print(tup)\n",
        "num = (1,2,3)\n",
        "print(len(num))\n",
        "print(tup.index(2))"
      ],
      "metadata": {
        "colab": {
          "base_uri": "https://localhost:8080/"
        },
        "id": "u2FlFFpykxLT",
        "outputId": "4f5744cb-d138-4cc2-d859-9b347e2b06ea"
      },
      "execution_count": null,
      "outputs": [
        {
          "output_type": "stream",
          "name": "stdout",
          "text": [
            "('valor1', 2, 'valor3')\n",
            "3\n",
            "1\n"
          ]
        }
      ]
    },
    {
      "cell_type": "code",
      "source": [
        "set_num = (3,6,7)\n",
        "set_list = list(set_num)\n",
        "set_list.append(\"fim\")\n",
        "set_num = tuple(set_list)\n",
        "print(set_num)"
      ],
      "metadata": {
        "colab": {
          "base_uri": "https://localhost:8080/"
        },
        "id": "mpuXwZaFnErn",
        "outputId": "6700e3fa-41c9-4ad7-a5d1-ea803d9f0ae7"
      },
      "execution_count": null,
      "outputs": [
        {
          "output_type": "stream",
          "name": "stdout",
          "text": [
            "(3, 6, 7, 'fim')\n"
          ]
        }
      ]
    },
    {
      "cell_type": "markdown",
      "source": [
        "Dicionário"
      ],
      "metadata": {
        "id": "jmeKpho7n3jv"
      }
    },
    {
      "cell_type": "code",
      "source": [
        "emails = {\"kelly\":\"kelly.hssa@gmail.com\",\n",
        "          \"Jean\":\"jean.hsca@gmail.com\",\n",
        "          \"Carlo\":\"jeanlucasp@ufam.edu.br\"}\n",
        "print(emails[\"kelly\"])\n",
        "emails.get(\"Jean\")"
      ],
      "metadata": {
        "id": "YhN-ZuaXn422",
        "colab": {
          "base_uri": "https://localhost:8080/",
          "height": 53
        },
        "outputId": "0c1387ec-ec25-4522-ac94-ab880f654a09"
      },
      "execution_count": null,
      "outputs": [
        {
          "output_type": "stream",
          "name": "stdout",
          "text": [
            "kelly.hssa@gmail.com\n"
          ]
        },
        {
          "output_type": "execute_result",
          "data": {
            "text/plain": [
              "'jean.hsca@gmail.com'"
            ],
            "application/vnd.google.colaboratory.intrinsic+json": {
              "type": "string"
            }
          },
          "metadata": {},
          "execution_count": 4
        }
      ]
    }
  ]
}