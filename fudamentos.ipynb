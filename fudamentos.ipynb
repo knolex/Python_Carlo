{
  "nbformat": 4,
  "nbformat_minor": 0,
  "metadata": {
    "colab": {
      "provenance": [],
      "collapsed_sections": [
        "fudf9TO-W9La",
        "eGV2AMILfMn2",
        "zcF5hfv7qhW_",
        "7xPTCJEYyiLs",
        "mhx_qOLZPNRN",
        "y5PIasQgbY37",
        "l_JPlWwIkv8L",
        "jmeKpho7n3jv",
        "rZjBstooc-_H",
        "imzQ_i01lthr",
        "O5p_0PZCuevD",
        "jQm2HUxAGuCD",
        "rGQ4NIj1THMk",
        "MBO3aY-AbNVW",
        "t9Llf-fq9saN",
        "n0n75QZ8Gu4B",
        "vVv2zDRrHLWL",
        "LEwJWMqAdI6S",
        "JznxDGIROSp1",
        "raimvNlZZ1Tb",
        "SXBrdMkW2YwM",
        "_PnZwZjgkZDx",
        "ezI63Y6UqJ-u"
      ],
      "authorship_tag": "ABX9TyPjmioaeWaFH5ubeSMzlUQ5",
      "include_colab_link": true
    },
    "kernelspec": {
      "name": "python3",
      "display_name": "Python 3"
    },
    "language_info": {
      "name": "python"
    }
  },
  "cells": [
    {
      "cell_type": "markdown",
      "metadata": {
        "id": "view-in-github",
        "colab_type": "text"
      },
      "source": [
        "<a href=\"https://colab.research.google.com/github/knolex/Python_Carlo/blob/main/fudamentos.ipynb\" target=\"_parent\"><img src=\"https://colab.research.google.com/assets/colab-badge.svg\" alt=\"Open In Colab\"/></a>"
      ]
    },
    {
      "cell_type": "code",
      "execution_count": null,
      "metadata": {
        "id": "ZP-5TnR49s1m"
      },
      "outputs": [],
      "source": [
        "print(\"jean\")\n",
        "print(\"foda\")"
      ]
    },
    {
      "cell_type": "code",
      "source": [
        "a=1\n",
        "#comentário \n",
        "print('jean', 'carlo', 'lucas', end =' pinto', sep=' ')\n"
      ],
      "metadata": {
        "id": "AEEFP62B-Mhl",
        "colab": {
          "base_uri": "https://localhost:8080/"
        },
        "outputId": "cdcec6f1-87ae-423b-f35d-1cbc92333bdd"
      },
      "execution_count": null,
      "outputs": [
        {
          "output_type": "stream",
          "name": "stdout",
          "text": [
            "jean carlo lucas pinto"
          ]
        }
      ]
    },
    {
      "cell_type": "code",
      "source": [],
      "metadata": {
        "id": "oX6_RIr1D7vb"
      },
      "execution_count": null,
      "outputs": []
    },
    {
      "cell_type": "code",
      "source": [
        "print('jean', 'carlo', 'lucas','pinto', sep='\\n')\n"
      ],
      "metadata": {
        "colab": {
          "base_uri": "https://localhost:8080/"
        },
        "id": "EgRj-VWAImlP",
        "outputId": "7b3cbca7-7596-46d6-f37a-ca4bd02b3f42"
      },
      "execution_count": null,
      "outputs": [
        {
          "output_type": "stream",
          "name": "stdout",
          "text": [
            "jean\n",
            "carlo\n",
            "lucas\n",
            "pinto\n"
          ]
        }
      ]
    },
    {
      "cell_type": "code",
      "source": [
        "nome = 'jean carlo lucas pinto'\n",
        "print('Meu nome é {}'.format(nome))\n",
        "print(f'Meu nome é {nome}')\n",
        "print(nome,sep=\"\\n\")"
      ],
      "metadata": {
        "colab": {
          "base_uri": "https://localhost:8080/"
        },
        "id": "od_YIeIjJQba",
        "outputId": "75c50493-7f21-4552-94a5-3772811a3d93"
      },
      "execution_count": null,
      "outputs": [
        {
          "output_type": "stream",
          "name": "stdout",
          "text": [
            "Meu nome é jean carlo lucas pinto\n",
            "Meu nome é jean carlo lucas pinto\n",
            "jean carlo lucas pinto\n"
          ]
        }
      ]
    },
    {
      "cell_type": "code",
      "source": [
        "#%s - string\n",
        "#%d - inteiro\n",
        "#%f - real precisão %.3f\n",
        "nome = \"jean\"\n",
        "texto = \"O seu nome é: \\n\\t %s\" %(nome)\n",
        "print(texto)\n"
      ],
      "metadata": {
        "colab": {
          "base_uri": "https://localhost:8080/"
        },
        "id": "wt8KQlIKVJda",
        "outputId": "10b76b57-006b-4927-d469-46c84bd6f50f"
      },
      "execution_count": null,
      "outputs": [
        {
          "output_type": "stream",
          "name": "stdout",
          "text": [
            "O seu nome é: \n",
            "\t jean\n"
          ]
        }
      ]
    },
    {
      "cell_type": "code",
      "source": [
        "#prioridade not and or\n",
        "dia, mes, ano = 16, 9, 1988\n",
        "data = \"eu nasci no dia %d/%d/%d\" %(dia, mes, ano)\n",
        "print(data)"
      ],
      "metadata": {
        "colab": {
          "base_uri": "https://localhost:8080/"
        },
        "id": "ZIKJibVmC53T",
        "outputId": "3844ea88-e724-4a7d-8444-78e0510c077a"
      },
      "execution_count": null,
      "outputs": [
        {
          "output_type": "stream",
          "name": "stdout",
          "text": [
            "eu nasci no dia 16/9/1988\n"
          ]
        }
      ]
    },
    {
      "cell_type": "markdown",
      "source": [
        "#Casting\n"
      ],
      "metadata": {
        "id": "fudf9TO-W9La"
      }
    },
    {
      "cell_type": "code",
      "source": [
        "print(type(nome))\n",
        "print(type(ano))\n",
        "print(float(mes))\n",
        "print(str(dia))\n",
        "print(len(data))"
      ],
      "metadata": {
        "colab": {
          "base_uri": "https://localhost:8080/"
        },
        "id": "BAMRMDxwXOHH",
        "outputId": "d222c9b3-ab34-48e2-cc17-14cee7948d09"
      },
      "execution_count": null,
      "outputs": [
        {
          "output_type": "stream",
          "name": "stdout",
          "text": [
            "<class 'str'>\n",
            "<class 'int'>\n",
            "9.0\n",
            "16\n",
            "25\n"
          ]
        }
      ]
    },
    {
      "cell_type": "markdown",
      "source": [
        "#Input"
      ],
      "metadata": {
        "id": "eGV2AMILfMn2"
      }
    },
    {
      "cell_type": "code",
      "source": [
        "var = input()\n",
        "print(var)\n",
        "print(type(var))"
      ],
      "metadata": {
        "colab": {
          "base_uri": "https://localhost:8080/"
        },
        "id": "dBE5J46XfOzf",
        "outputId": "0c6ec1e3-e8db-4dd1-8603-0f00c7deaddc"
      },
      "execution_count": null,
      "outputs": [
        {
          "output_type": "stream",
          "name": "stdout",
          "text": [
            "56\n",
            "56\n",
            "<class 'str'>\n"
          ]
        }
      ]
    },
    {
      "cell_type": "code",
      "source": [
        "entrada = input(\"Digite 1 para sim e 0 para não \")\n",
        "valor = int(entrada)\n",
        "bol = bool(valor)\n",
        "print(bol)"
      ],
      "metadata": {
        "colab": {
          "base_uri": "https://localhost:8080/"
        },
        "id": "6K9tjqvJgZlZ",
        "outputId": "b532ccf2-290c-4003-ec33-d28650739e1e"
      },
      "execution_count": null,
      "outputs": [
        {
          "output_type": "stream",
          "name": "stdout",
          "text": [
            "Digite 1 para sim e 0 para não 0\n",
            "False\n"
          ]
        }
      ]
    },
    {
      "cell_type": "code",
      "source": [
        "#string invertida\n",
        "texto = \"jean fodão\"\n",
        "print(texto[::-1])\n",
        "print(texto[3::-1])"
      ],
      "metadata": {
        "colab": {
          "base_uri": "https://localhost:8080/"
        },
        "id": "W5n8WgLuwk6S",
        "outputId": "6e7bc05d-c2d3-43db-e92b-5128a7707761"
      },
      "execution_count": null,
      "outputs": [
        {
          "output_type": "stream",
          "name": "stdout",
          "text": [
            "oãdof naej\n",
            "naej\n"
          ]
        }
      ]
    },
    {
      "cell_type": "code",
      "source": [
        "#in e not in\n",
        "#len\n",
        "texto = \"Jean fodão demais\"\n",
        "print(\"a\" in texto)\n",
        "print(\"ã\" in texto)\n",
        "print(\"y\" not in texto)\n",
        "print(len(texto))\n"
      ],
      "metadata": {
        "colab": {
          "base_uri": "https://localhost:8080/"
        },
        "id": "lSiQpSGOyuWv",
        "outputId": "b575354b-954b-4d0c-bc89-c95b1958248a"
      },
      "execution_count": null,
      "outputs": [
        {
          "output_type": "stream",
          "name": "stdout",
          "text": [
            "True\n",
            "True\n",
            "True\n",
            "17\n"
          ]
        }
      ]
    },
    {
      "cell_type": "code",
      "source": [
        "#exemplos\n",
        "nome = \"Jean Pinto\"\n",
        "fsrt = nome[:4]\n",
        "last = nome[5:]\n",
        "print(fsrt)\n",
        "print(last)"
      ],
      "metadata": {
        "colab": {
          "base_uri": "https://localhost:8080/"
        },
        "id": "ggzQWSLJz7SN",
        "outputId": "e24a30d8-9d51-46de-9e7f-5ae388a67cad"
      },
      "execution_count": null,
      "outputs": [
        {
          "output_type": "stream",
          "name": "stdout",
          "text": [
            "Jean\n",
            "Pinto\n"
          ]
        }
      ]
    },
    {
      "cell_type": "code",
      "source": [
        "#exemplos\n",
        "var = input()\n",
        "print(var[:-1])"
      ],
      "metadata": {
        "colab": {
          "base_uri": "https://localhost:8080/"
        },
        "id": "EaAVRtGo1D-n",
        "outputId": "01712373-0c4b-41ea-c7be-93b2b88a77ba"
      },
      "execution_count": null,
      "outputs": [
        {
          "output_type": "stream",
          "name": "stdout",
          "text": [
            "jean\n",
            "jea\n"
          ]
        }
      ]
    },
    {
      "cell_type": "code",
      "source": [
        "#exemplos\n",
        "x = input()\n",
        "tem_vogal = (\"a\" in x) or (\"e\" in x) or (\"i\" in x) or (\"o\" in x) or (\"u\" in x)\n",
        "print(tem_vogal)"
      ],
      "metadata": {
        "colab": {
          "base_uri": "https://localhost:8080/"
        },
        "id": "Wm1x5Wr113Vt",
        "outputId": "76913795-4434-4fbc-ebae-773b0c2f4202"
      },
      "execution_count": null,
      "outputs": [
        {
          "output_type": "stream",
          "name": "stdout",
          "text": [
            "kjhgf\n",
            "False\n"
          ]
        }
      ]
    },
    {
      "cell_type": "code",
      "source": [
        "#exemplos\n",
        "##ajsda\n",
        "text = input()\n",
        "text = \"abc\"+text[0:]\n",
        "print(text)"
      ],
      "metadata": {
        "colab": {
          "base_uri": "https://localhost:8080/"
        },
        "id": "659yj1BD3Fpw",
        "outputId": "01bcd0b5-5cd9-49a6-b92d-7b00ec5f18d6"
      },
      "execution_count": null,
      "outputs": [
        {
          "output_type": "stream",
          "name": "stdout",
          "text": [
            "ejiej\n",
            "abcejiej\n"
          ]
        }
      ]
    },
    {
      "cell_type": "markdown",
      "source": [
        "#While\n"
      ],
      "metadata": {
        "id": "zcF5hfv7qhW_"
      }
    },
    {
      "cell_type": "code",
      "source": [
        "2qtd_num = int(input(\"Quantos números você vai digitar?\"))\n",
        "soma = 0\n",
        "num_lidos = 0\n",
        "while(num_lidos < qtd_num):\n",
        "  num = float(input(\"Digite um número: \"))\n",
        "  soma += num\n",
        "  num_lidos +=1\n",
        "  media = soma / num_lidos\n",
        "\n",
        "print(\"A soma dos números digitados é: %.2f\" %(soma))  \n",
        "print(\"A média é: %.2f\"%(media))"
      ],
      "metadata": {
        "colab": {
          "base_uri": "https://localhost:8080/"
        },
        "id": "4jEgcx1Wqixn",
        "outputId": "4f763acd-9834-46e9-cccf-078a97a66cf4"
      },
      "execution_count": null,
      "outputs": [
        {
          "output_type": "stream",
          "name": "stdout",
          "text": [
            "Quantos números você vai digitar?3\n",
            "Digite um número: 1\n",
            "Digite um número: 2\n",
            "Digite um número: 3\n",
            "A soma dos números digitados é: 6.00\n",
            "A média é: 2.00\n"
          ]
        }
      ]
    },
    {
      "cell_type": "code",
      "source": [
        "texto = input(\"Digite seu texto: \")\n",
        "cont = 0\n",
        "branco = 0\n",
        "while(cont < len(texto)):\n",
        "  print(texto[cont])\n",
        "  if(texto[cont] == \" \"):\n",
        "    branco +=1\n",
        "  cont +=1\n",
        "print(\"espaços em branco: %d\"%(branco))  "
      ],
      "metadata": {
        "colab": {
          "base_uri": "https://localhost:8080/"
        },
        "id": "q3bqDLWLrcPt",
        "outputId": "16ff4932-35da-41d4-e6a9-7c6872df8fce"
      },
      "execution_count": null,
      "outputs": [
        {
          "output_type": "stream",
          "name": "stdout",
          "text": [
            "Digite seu texto: ufam am 2022\n",
            "u\n",
            "f\n",
            "a\n",
            "m\n",
            " \n",
            "a\n",
            "m\n",
            " \n",
            "2\n",
            "0\n",
            "2\n",
            "2\n",
            "espaços em branco: 2\n"
          ]
        }
      ]
    },
    {
      "cell_type": "markdown",
      "source": [
        "#For\n"
      ],
      "metadata": {
        "id": "7xPTCJEYyiLs"
      }
    },
    {
      "cell_type": "code",
      "source": [
        "#range(início, fim, steps)\n",
        "for x in range(0,10,2):\n",
        "  print(x)\n"
      ],
      "metadata": {
        "colab": {
          "base_uri": "https://localhost:8080/"
        },
        "id": "93sdEAlbyjHP",
        "outputId": "defbfc9f-759c-49a4-a9d2-23d92580f282"
      },
      "execution_count": null,
      "outputs": [
        {
          "output_type": "stream",
          "name": "stdout",
          "text": [
            "0\n",
            "2\n",
            "4\n",
            "6\n",
            "8\n"
          ]
        }
      ]
    },
    {
      "cell_type": "code",
      "source": [
        "letra = input(\"digite a letra a ser encontrada: \")\n",
        "\n",
        "if(len(letra)!=1):\n",
        "  print(\"Digite apenas uma letra\")\n",
        "else:\n",
        "  texto = input(\"Digite o texto: \")\n",
        "for i in range(0, len(texto)):\n",
        "  if texto[i] == letra:\n",
        "    print(\"letra %s encontrada na posição %d do texto\"%(letra, i+1))"
      ],
      "metadata": {
        "colab": {
          "base_uri": "https://localhost:8080/"
        },
        "id": "NzCRxGAl35ff",
        "outputId": "7cda148d-5481-4423-c2a7-0940d9c4879e"
      },
      "execution_count": null,
      "outputs": [
        {
          "output_type": "stream",
          "name": "stdout",
          "text": [
            "digite a letra a ser encontrada: h\n",
            "Digite o texto: humano\n",
            "letra h encontrada na posição 1 do texto\n"
          ]
        }
      ]
    },
    {
      "cell_type": "code",
      "source": [
        "texto = input(\"Digite um texto: \")\n",
        "cont = 0\n",
        "for i in texto:\n",
        "  if(i != \" \"):\n",
        "    cont += 1\n",
        "print(\"O texto tem %d caracteres\"%(cont))    \n",
        "\n",
        "\n",
        "\n"
      ],
      "metadata": {
        "colab": {
          "base_uri": "https://localhost:8080/"
        },
        "id": "0epUCWCA7AOS",
        "outputId": "3f6e2c14-787c-44d6-a9d7-6f6a55a2518d"
      },
      "execution_count": null,
      "outputs": [
        {
          "output_type": "stream",
          "name": "stdout",
          "text": [
            "Digite um texto: jean carlo lucas pinto\n",
            "O texto tem 19 caracteres\n"
          ]
        }
      ]
    },
    {
      "cell_type": "code",
      "source": [
        "num = int(input(\"Digite um número :\"))\n",
        "result = 1\n",
        "\n",
        "for x in range(1,num+1):\n",
        "  result *= x\n",
        "\n",
        "print(\"O fatorial do número %d é: %d\"%(num,result))  "
      ],
      "metadata": {
        "id": "GuUrlyWYDDM4",
        "colab": {
          "base_uri": "https://localhost:8080/"
        },
        "outputId": "e60b639e-4d4d-4c50-ff86-ccac683c2157"
      },
      "execution_count": null,
      "outputs": [
        {
          "output_type": "stream",
          "name": "stdout",
          "text": [
            "Digite um número :3\n",
            "O fatorial do número 3 é: 6\n"
          ]
        }
      ]
    },
    {
      "cell_type": "code",
      "source": [
        "for num in range(1,31):\n",
        "  e_primo = True\n",
        "  for numero in range(2,num):\n",
        "    if(num % numero == 0):\n",
        "      e_primo = False\n",
        "      break\n",
        "  if(e_primo):\n",
        "    print(\"O número %d é primo\"%(num))\n",
        "  else:\n",
        "    print(\"O número %d NÃO é primo\"%(num))      \n"
      ],
      "metadata": {
        "id": "lP93SGffEAEl"
      },
      "execution_count": null,
      "outputs": []
    },
    {
      "cell_type": "markdown",
      "source": [
        "#List"
      ],
      "metadata": {
        "id": "mhx_qOLZPNRN"
      }
    },
    {
      "cell_type": "code",
      "source": [
        "array = [\"a\",'b']\n",
        "arry = list([1,2,3])\n",
        "print(type(arry))\n",
        "print(type(array))"
      ],
      "metadata": {
        "colab": {
          "base_uri": "https://localhost:8080/"
        },
        "id": "88dp0FgXPOK3",
        "outputId": "b7b5e4fc-98a1-497f-9c85-348fa0a324a0"
      },
      "execution_count": null,
      "outputs": [
        {
          "output_type": "stream",
          "name": "stdout",
          "text": [
            "<class 'list'>\n",
            "<class 'list'>\n"
          ]
        }
      ]
    },
    {
      "cell_type": "code",
      "source": [
        "arr = [1,2,5]\n",
        "print(arr)\n",
        "arr.append(6)\n",
        "print(arr)\n",
        "arr.insert(1,\"7\")\n",
        "print(arr)"
      ],
      "metadata": {
        "colab": {
          "base_uri": "https://localhost:8080/"
        },
        "id": "wG0QjQoyR1L1",
        "outputId": "c54bbc48-e63a-40ab-890d-7af72712a773"
      },
      "execution_count": null,
      "outputs": [
        {
          "output_type": "stream",
          "name": "stdout",
          "text": [
            "[1, 2, 5]\n",
            "[1, 2, 5, 6]\n",
            "[1, '7', 2, 5, 6]\n"
          ]
        }
      ]
    },
    {
      "cell_type": "code",
      "source": [
        "vetor = [3,4,5,6]\n",
        "vetor.remove(5)\n",
        "print(vetor)\n",
        "vetor.pop(2)\n",
        "print(vetor)\n",
        "print(len(vetor))\n",
        "vetor.clear()\n",
        "vetor"
      ],
      "metadata": {
        "colab": {
          "base_uri": "https://localhost:8080/"
        },
        "id": "bkdOOqRVTTod",
        "outputId": "bacf3454-787f-4c06-faf5-d6653d0d71c7"
      },
      "execution_count": null,
      "outputs": [
        {
          "output_type": "stream",
          "name": "stdout",
          "text": [
            "[3, 4, 6]\n",
            "[3, 4]\n",
            "2\n"
          ]
        },
        {
          "output_type": "execute_result",
          "data": {
            "text/plain": [
              "[]"
            ]
          },
          "metadata": {},
          "execution_count": 20
        }
      ]
    },
    {
      "cell_type": "code",
      "source": [
        "#count quantas vezes o parametro aparece no array\n",
        "vet = [1,2,2,2,3,True,2.4]\n",
        "print(vet.count(2))\n",
        "print(False in vet)\n",
        "print(2.4 in vet)\n",
        "#index retorna o indice do parametro\n",
        "print(vet.index(2))"
      ],
      "metadata": {
        "colab": {
          "base_uri": "https://localhost:8080/"
        },
        "id": "wh6HewfoUaUq",
        "outputId": "fa92b4bc-69a1-4be2-acad-0f789d3391fc"
      },
      "execution_count": null,
      "outputs": [
        {
          "output_type": "stream",
          "name": "stdout",
          "text": [
            "3\n",
            "False\n",
            "True\n",
            "1\n"
          ]
        }
      ]
    },
    {
      "cell_type": "markdown",
      "source": [
        "#SET"
      ],
      "metadata": {
        "id": "y5PIasQgbY37"
      }
    },
    {
      "cell_type": "code",
      "source": [
        "#Estrutura não ordenada, permite incluir mas não alterar elementos e que não pode ser acessada por um indíce\n",
        "lis_set = {6,8,7}\n",
        "list_set = set({1,2,3})\n",
        "#não suporta modificação list_set[0] = 5\n",
        "list_set.add(6)\n",
        "print(list_set)\n",
        "unido = lis_set.union(list_set)\n",
        "print(unido)\n",
        "intersecao = lis_set.intersection(list_set)\n",
        "print(intersecao)\n",
        "print(lis_set)\n",
        "diferenca = list_set.difference(lis_set)\n",
        "print(diferenca)"
      ],
      "metadata": {
        "colab": {
          "base_uri": "https://localhost:8080/"
        },
        "id": "cu_I4fM3baEc",
        "outputId": "f1dccd26-959d-46b5-8742-fcbe985c9eaf"
      },
      "execution_count": null,
      "outputs": [
        {
          "output_type": "stream",
          "name": "stdout",
          "text": [
            "{1, 2, 3, 6}\n",
            "{1, 2, 3, 6, 7, 8}\n",
            "{6}\n",
            "{8, 6, 7}\n",
            "{1, 2, 3}\n"
          ]
        }
      ]
    },
    {
      "cell_type": "markdown",
      "source": [
        "#Tuplas"
      ],
      "metadata": {
        "id": "l_JPlWwIkv8L"
      }
    },
    {
      "cell_type": "code",
      "source": [
        "tup = tuple((\"valor1\",2,\"valor3\"))\n",
        "print(tup)\n",
        "num = (1,2,3)\n",
        "print(len(num))\n",
        "print(tup.index(2))"
      ],
      "metadata": {
        "colab": {
          "base_uri": "https://localhost:8080/"
        },
        "id": "u2FlFFpykxLT",
        "outputId": "4f5744cb-d138-4cc2-d859-9b347e2b06ea"
      },
      "execution_count": null,
      "outputs": [
        {
          "output_type": "stream",
          "name": "stdout",
          "text": [
            "('valor1', 2, 'valor3')\n",
            "3\n",
            "1\n"
          ]
        }
      ]
    },
    {
      "cell_type": "code",
      "source": [
        "set_num = (3,6,7)\n",
        "set_list = list(set_num)\n",
        "set_list.append(\"fim\")\n",
        "set_num = tuple(set_list)\n",
        "print(set_num)"
      ],
      "metadata": {
        "colab": {
          "base_uri": "https://localhost:8080/"
        },
        "id": "mpuXwZaFnErn",
        "outputId": "6700e3fa-41c9-4ad7-a5d1-ea803d9f0ae7"
      },
      "execution_count": null,
      "outputs": [
        {
          "output_type": "stream",
          "name": "stdout",
          "text": [
            "(3, 6, 7, 'fim')\n"
          ]
        }
      ]
    },
    {
      "cell_type": "markdown",
      "source": [
        "#Dicionário"
      ],
      "metadata": {
        "id": "jmeKpho7n3jv"
      }
    },
    {
      "cell_type": "code",
      "source": [
        "emails = {\"kelly\":\"kelly.hssa@gmail.com\",\n",
        "          \"Jean\":\"jean.hsca@gmail.com\",\n",
        "          \"Carlo\":\"jeanlucasp@ufam.edu.br\"}\n",
        "print(emails[\"kelly\"])\n",
        "emails.get(\"Jean\")\n",
        "#inclusão\n",
        "emails[\"Gab\"]=\"gab@gmail.com.br\"\n",
        "print(emails[\"Gab\"])\n",
        "emails.popitem()\n",
        "print(emails)"
      ],
      "metadata": {
        "id": "YhN-ZuaXn422",
        "colab": {
          "base_uri": "https://localhost:8080/"
        },
        "outputId": "dde7267a-e53b-4830-a0a2-cec15d4f954c"
      },
      "execution_count": null,
      "outputs": [
        {
          "output_type": "stream",
          "name": "stdout",
          "text": [
            "kelly.hssa@gmail.com\n",
            "gab@gmail.com.br\n",
            "{'kelly': 'kelly.hssa@gmail.com', 'Jean': 'jean.hsca@gmail.com', 'Carlo': 'jeanlucasp@ufam.edu.br'}\n"
          ]
        }
      ]
    },
    {
      "cell_type": "code",
      "source": [
        "#convertendo em uma tupla\n",
        "lista_emails = emails.items()\n",
        "print(lista_emails)\n",
        "for item in lista_emails:\n",
        "  print(item[0],item[1])\n",
        "\n",
        "chaves = emails.keys() \n",
        "valor = emails.values()\n",
        "\n",
        "for i in chaves:\n",
        "  print(i)\n",
        "print(\"---------\")\n",
        "for x in valor:\n",
        "  print(x)  "
      ],
      "metadata": {
        "id": "l2G27FHgdp3L"
      },
      "execution_count": null,
      "outputs": []
    },
    {
      "cell_type": "code",
      "source": [
        "idades = {'jean':34,'kelly':24,'lola':5}\n",
        "lista_idades = list(idades.values())\n",
        "trintaEquatro = lista_idades.count(34)\n",
        "print(trintaEquatro)\n"
      ],
      "metadata": {
        "id": "oBV6yE-Pgu16",
        "colab": {
          "base_uri": "https://localhost:8080/"
        },
        "outputId": "ff5121c8-a706-46a5-aa70-f27783590cf3"
      },
      "execution_count": null,
      "outputs": [
        {
          "output_type": "stream",
          "name": "stdout",
          "text": [
            "1\n"
          ]
        }
      ]
    },
    {
      "cell_type": "code",
      "source": [
        "skate_rua = {\n",
        "    'shape':7.75,\n",
        "    'truck':129,\n",
        "    'roda':52,\n",
        "    'lixa':'grizzy',\n",
        "    'parafuso':'crail',\n",
        "    'rolamento': 'spitfire'\n",
        "}\n",
        "skate_vert = {\n",
        "    'shape':8.75,\n",
        "    'truck':159,\n",
        "    'roda':62,\n",
        "    'lixa':'TonyHawlk',\n",
        "    'parafuso':'trasher',\n",
        "    'rolamento': 'bones'\n",
        "}\n",
        "skate_overall = {\n",
        "    'shape':8.25,\n",
        "    'truck':149,\n",
        "    'roda':54,\n",
        "    'lixa':'grizzy',\n",
        "    'parafuso':'trasher',\n",
        "    'rolamento': 'bronson'\n",
        "}\n",
        "\n",
        "skates = {\n",
        "    'rua': skate_rua,\n",
        "    'vertical': skate_vert,\n",
        "    'OverAll' : skate_overall\n",
        "}\n",
        "\n",
        "print(skates['OverAll']['rolamento'])"
      ],
      "metadata": {
        "colab": {
          "base_uri": "https://localhost:8080/"
        },
        "id": "ypdvSJFli83p",
        "outputId": "f62d564e-b01b-4e87-a43d-b6e39658fa68"
      },
      "execution_count": null,
      "outputs": [
        {
          "output_type": "stream",
          "name": "stdout",
          "text": [
            "bronson\n"
          ]
        }
      ]
    },
    {
      "cell_type": "code",
      "source": [
        "lista = [x for x in range(1,11) if x%2 == 0]\n",
        "print(lista)\n",
        "lista_aux = [1,6,7]\n",
        "lista = [x for x in range(1,11) if x not in lista_aux]\n",
        "print(lista)"
      ],
      "metadata": {
        "colab": {
          "base_uri": "https://localhost:8080/"
        },
        "id": "Q-740aUKnKQg",
        "outputId": "0c006104-c22b-4c3a-d8a7-2db5821a35d2"
      },
      "execution_count": null,
      "outputs": [
        {
          "output_type": "stream",
          "name": "stdout",
          "text": [
            "[2, 4, 6, 8, 10]\n",
            "[2, 3, 4, 5, 8, 9, 10]\n"
          ]
        }
      ]
    },
    {
      "cell_type": "code",
      "source": [
        "#str(x)[0] primeiro dígito\n",
        "lista_2 = [str(x)[0] for x in range(0,21)]\n",
        "print(lista_2)\n",
        "\n",
        "lista_3 = ['par' if x%2==0 else 'impar'for x in range(1,20)]\n",
        "print(lista_3)"
      ],
      "metadata": {
        "colab": {
          "base_uri": "https://localhost:8080/"
        },
        "id": "1ZOE-Yq4oeQp",
        "outputId": "962e12c2-8a14-476b-af43-6986849aad12"
      },
      "execution_count": null,
      "outputs": [
        {
          "output_type": "stream",
          "name": "stdout",
          "text": [
            "['0', '1', '2', '3', '4', '5', '6', '7', '8', '9', '1', '1', '1', '1', '1', '1', '1', '1', '1', '1', '2']\n",
            "['impar', 'par', 'impar', 'par', 'impar', 'par', 'impar', 'par', 'impar', 'par', 'impar', 'par', 'impar', 'par', 'impar', 'par', 'impar', 'par', 'impar']\n"
          ]
        }
      ]
    },
    {
      "cell_type": "code",
      "source": [
        "lista =[x for x in range(0,11)]\n",
        "filtro = list(filter(lambda x : x%2 == 0, lista))\n",
        "print(filtro)\n",
        "#matriz\n",
        "matriz = [[str(x)+str(y) for x in range(0,5)]  for y in range(0,5)]\n",
        "matriz\n",
        "\n",
        "[[str(x)+'*'+str(y)+'='+str(x*y) for x in range(1,6)] for y in range(1,6)]"
      ],
      "metadata": {
        "colab": {
          "base_uri": "https://localhost:8080/"
        },
        "id": "Xlz5C4bvtwKT",
        "outputId": "2a60e44f-33ad-45ff-8c0a-1d0ec6e25c65"
      },
      "execution_count": null,
      "outputs": [
        {
          "output_type": "stream",
          "name": "stdout",
          "text": [
            "[0, 2, 4, 6, 8, 10]\n"
          ]
        },
        {
          "output_type": "execute_result",
          "data": {
            "text/plain": [
              "[['1*1=1', '2*1=2', '3*1=3', '4*1=4', '5*1=5'],\n",
              " ['1*2=2', '2*2=4', '3*2=6', '4*2=8', '5*2=10'],\n",
              " ['1*3=3', '2*3=6', '3*3=9', '4*3=12', '5*3=15'],\n",
              " ['1*4=4', '2*4=8', '3*4=12', '4*4=16', '5*4=20'],\n",
              " ['1*5=5', '2*5=10', '3*5=15', '4*5=20', '5*5=25']]"
            ]
          },
          "metadata": {},
          "execution_count": 1
        }
      ]
    },
    {
      "cell_type": "markdown",
      "source": [
        "#exercícios"
      ],
      "metadata": {
        "id": "rZjBstooc-_H"
      }
    },
    {
      "cell_type": "code",
      "source": [
        "lista = [1,10,6,7,8,10]\n",
        "soma = 0\n",
        "for i in lista:\n",
        "  soma += i\n",
        "print(lista)\n",
        "print(soma)"
      ],
      "metadata": {
        "colab": {
          "base_uri": "https://localhost:8080/"
        },
        "id": "t2nMaZDIckoS",
        "outputId": "72e57620-72d8-4186-9101-1a9d5fccbbdc"
      },
      "execution_count": null,
      "outputs": [
        {
          "output_type": "stream",
          "name": "stdout",
          "text": [
            "[1, 10, 6, 7, 8, 10]\n",
            "42\n"
          ]
        }
      ]
    },
    {
      "cell_type": "code",
      "source": [
        "lista_0 = [x for x in range(1,101)]\n",
        "print(lista_0)"
      ],
      "metadata": {
        "colab": {
          "base_uri": "https://localhost:8080/"
        },
        "id": "Pr9fa95Ud9nb",
        "outputId": "b922b0bb-6059-445e-e071-e4e51982a401"
      },
      "execution_count": null,
      "outputs": [
        {
          "output_type": "stream",
          "name": "stdout",
          "text": [
            "[1, 2, 3, 4, 5, 6, 7, 8, 9, 10, 11, 12, 13, 14, 15, 16, 17, 18, 19, 20, 21, 22, 23, 24, 25, 26, 27, 28, 29, 30, 31, 32, 33, 34, 35, 36, 37, 38, 39, 40, 41, 42, 43, 44, 45, 46, 47, 48, 49, 50, 51, 52, 53, 54, 55, 56, 57, 58, 59, 60, 61, 62, 63, 64, 65, 66, 67, 68, 69, 70, 71, 72, 73, 74, 75, 76, 77, 78, 79, 80, 81, 82, 83, 84, 85, 86, 87, 88, 89, 90, 91, 92, 93, 94, 95, 96, 97, 98, 99, 100]\n"
          ]
        }
      ]
    },
    {
      "cell_type": "code",
      "source": [
        "#união de listas sem repetir valores iguais\n",
        "lista_set1 = {30,4,43,52,65,-10}\n",
        "lista_set2 = {43,2,4,76,32,65,3}\n",
        "novo_set = lista_set1.union(lista_set2)\n",
        "print(novo_set)"
      ],
      "metadata": {
        "colab": {
          "base_uri": "https://localhost:8080/"
        },
        "id": "-QLpuOllfMgN",
        "outputId": "571dd8d5-17b9-41fc-af5c-51df42bff15e"
      },
      "execution_count": null,
      "outputs": [
        {
          "output_type": "stream",
          "name": "stdout",
          "text": [
            "{32, 65, 2, 3, 4, 43, 76, 52, -10, 30}\n"
          ]
        }
      ]
    },
    {
      "cell_type": "code",
      "source": [
        "meses = ('janeiro','fevereiro','março','abril','maio','junho','julho','agosto','setembro','outrubro','novembro','dezembro')\n",
        "mes_nascido = int(input('Digite o mes que voce nasceu: '))\n",
        "print(\"Você nasceu em:%s\"%(meses[mes_nascido-1]))"
      ],
      "metadata": {
        "id": "7rTO_i2Rf5mE",
        "colab": {
          "base_uri": "https://localhost:8080/"
        },
        "outputId": "28fd43d2-ce9b-4b42-efc9-38eb50099588"
      },
      "execution_count": null,
      "outputs": [
        {
          "output_type": "stream",
          "name": "stdout",
          "text": [
            "Digite o mes que voce nasceu: 9\n",
            "Você nasceu em:setembro\n"
          ]
        }
      ]
    },
    {
      "cell_type": "code",
      "source": [
        "lista = [x for x in range(0,101) if str(x)[-1]=='0']\n",
        "print(lista)\n",
        "lista_v = ['0' if str(x)[-1] == '0' else '-' for x in range(0,21) ]\n",
        "print(lista_v)"
      ],
      "metadata": {
        "colab": {
          "base_uri": "https://localhost:8080/"
        },
        "id": "4m0pPS6ii91i",
        "outputId": "54ec1534-8598-444d-d073-70466146510f"
      },
      "execution_count": null,
      "outputs": [
        {
          "output_type": "stream",
          "name": "stdout",
          "text": [
            "[0, 10, 20, 30, 40, 50, 60, 70, 80, 90, 100]\n",
            "['0', '-', '-', '-', '-', '-', '-', '-', '-', '-', '0', '-', '-', '-', '-', '-', '-', '-', '-', '-', '0']\n"
          ]
        }
      ]
    },
    {
      "cell_type": "markdown",
      "source": [
        "#Funções"
      ],
      "metadata": {
        "id": "imzQ_i01lthr"
      }
    },
    {
      "cell_type": "code",
      "source": [
        "#def nome(parametros):\n",
        "#  return\n",
        "\n",
        "#número arbitrário de parâmetros\n",
        "def func(*args):\n",
        "  print(type(args))\n",
        "  print('Argumentos: ', args)\n",
        "\n",
        "func(1,2,3)\n",
        "func(False)\n",
        "func(\"jean\")\n",
        "func([1,2,3,6],True)"
      ],
      "metadata": {
        "colab": {
          "base_uri": "https://localhost:8080/"
        },
        "id": "Xl56iiDVluc-",
        "outputId": "eb16d945-1593-4f3a-8edc-26efb5ed1581"
      },
      "execution_count": null,
      "outputs": [
        {
          "output_type": "stream",
          "name": "stdout",
          "text": [
            "<class 'tuple'>\n",
            "Argumentos:  (1, 2, 3)\n",
            "<class 'tuple'>\n",
            "Argumentos:  (False,)\n",
            "<class 'tuple'>\n",
            "Argumentos:  ('jean',)\n",
            "<class 'tuple'>\n",
            "Argumentos:  ([1, 2, 3, 6], True)\n"
          ]
        }
      ]
    },
    {
      "cell_type": "code",
      "source": [
        "def func(valor,name=\"jean\"):\n",
        "  print(name, valor)\n",
        "\n",
        "func(3)\n",
        "func(2,\"kelly\")\n"
      ],
      "metadata": {
        "colab": {
          "base_uri": "https://localhost:8080/"
        },
        "id": "xqi8Pr5Zpcmg",
        "outputId": "7916c196-6d91-4ed5-e041-5806d6f517a8"
      },
      "execution_count": null,
      "outputs": [
        {
          "output_type": "stream",
          "name": "stdout",
          "text": [
            "jean 3\n",
            "kelly 2\n"
          ]
        }
      ]
    },
    {
      "cell_type": "code",
      "source": [
        "#parametros de chave : valor a função internamente transforma em dict\n",
        "def func(**args):\n",
        "  print(type(args))\n",
        "  print(args)\n",
        "  print(args['valor'])\n",
        "\n",
        "func(valor=\"10\", operacao = \"div\", result=\"0\")  "
      ],
      "metadata": {
        "colab": {
          "base_uri": "https://localhost:8080/"
        },
        "id": "ClecCHYQqJ-V",
        "outputId": "11f245ae-da5c-4f9b-8e20-e2ffb4307938"
      },
      "execution_count": null,
      "outputs": [
        {
          "output_type": "stream",
          "name": "stdout",
          "text": [
            "<class 'dict'>\n",
            "{'valor': '10', 'operacao': 'div', 'result': '0'}\n",
            "10\n"
          ]
        }
      ]
    },
    {
      "cell_type": "code",
      "source": [
        "valor = lambda x,y: x*y\n",
        "print(valor(2,3))"
      ],
      "metadata": {
        "colab": {
          "base_uri": "https://localhost:8080/"
        },
        "id": "OjvVsAjsfSSP",
        "outputId": "48057f77-2614-4970-b7f7-06ee0d33b6c8"
      },
      "execution_count": null,
      "outputs": [
        {
          "output_type": "stream",
          "name": "stdout",
          "text": [
            "6\n"
          ]
        }
      ]
    },
    {
      "cell_type": "code",
      "source": [
        "#função recursiva chama a si própria de dentro dela\n",
        "def fatorial(num):\n",
        "  if(num == 1 ):\n",
        "    return 1\n",
        "  return num * fatorial(num-1)  \n",
        "\n",
        "print(fatorial(5))  \n",
        "#função chando outra internamente\n",
        "def pai():\n",
        "  def filho():\n",
        "    print(\"sou filho\")\n",
        "  filho()\n",
        "\n",
        "pai()    "
      ],
      "metadata": {
        "colab": {
          "base_uri": "https://localhost:8080/"
        },
        "id": "j9vgMUFXlPSs",
        "outputId": "94db5d69-8888-4cc0-b16a-fe4c038258c0"
      },
      "execution_count": null,
      "outputs": [
        {
          "output_type": "stream",
          "name": "stdout",
          "text": [
            "120\n",
            "sou filho\n"
          ]
        }
      ]
    },
    {
      "cell_type": "markdown",
      "source": [
        "#Decorators"
      ],
      "metadata": {
        "id": "O5p_0PZCuevD"
      }
    },
    {
      "cell_type": "code",
      "source": [
        "def Maisc(func):\n",
        "  def inner_func():\n",
        "    return func().upper()\n",
        "  return inner_func\n",
        "# decorador informa que esta função é parametro para outra  \n",
        "@Maisc\n",
        "def retorna_str():\n",
        "  return \"teste\"\n",
        "\n",
        "valor = retorna_str()\n",
        "print(valor)"
      ],
      "metadata": {
        "colab": {
          "base_uri": "https://localhost:8080/"
        },
        "id": "r5eM6BDEujb6",
        "outputId": "e492ae54-f2ed-4d3c-d3ad-b09d701fdf5b"
      },
      "execution_count": null,
      "outputs": [
        {
          "output_type": "stream",
          "name": "stdout",
          "text": [
            "TESTE\n"
          ]
        }
      ]
    },
    {
      "cell_type": "code",
      "source": [
        "def text(texto):\n",
        "  return texto[-1]\n",
        "\n",
        "print(text(\"jean\"))"
      ],
      "metadata": {
        "colab": {
          "base_uri": "https://localhost:8080/"
        },
        "id": "sq88VJm4Ftl8",
        "outputId": "f7fa4fb4-9279-4a9e-f61b-fa3962feb8b1"
      },
      "execution_count": null,
      "outputs": [
        {
          "output_type": "stream",
          "name": "stdout",
          "text": [
            "n\n"
          ]
        }
      ]
    },
    {
      "cell_type": "code",
      "source": [
        "def mostra_tipo(*args):\n",
        "  for i in args:\n",
        "    print(type(i))\n",
        "  print(type(args))\n",
        "\n",
        "mostra_tipo(1,2,3.56,\"texto\",False)    "
      ],
      "metadata": {
        "colab": {
          "base_uri": "https://localhost:8080/"
        },
        "id": "akhVDqm_Lr-i",
        "outputId": "8dc4b911-de70-42ca-fe6b-ca410645c9db"
      },
      "execution_count": null,
      "outputs": [
        {
          "output_type": "stream",
          "name": "stdout",
          "text": [
            "<class 'int'>\n",
            "<class 'int'>\n",
            "<class 'float'>\n",
            "<class 'str'>\n",
            "<class 'bool'>\n",
            "<class 'tuple'>\n"
          ]
        }
      ]
    },
    {
      "cell_type": "code",
      "source": [
        "def citacao(func):\n",
        "  def inner_func(str):\n",
        "    return '\"'+ func(str).lower()+'\"'\n",
        "  return inner_func\n",
        "\n",
        "@citacao\n",
        "def transforma(str):\n",
        "  return str\n",
        "\n",
        "print(transforma(\"Python de cu é rola\"))     "
      ],
      "metadata": {
        "colab": {
          "base_uri": "https://localhost:8080/"
        },
        "id": "iMYhQGa5MrNk",
        "outputId": "ef7168be-6b37-49bb-bf48-e501a6511146"
      },
      "execution_count": null,
      "outputs": [
        {
          "output_type": "stream",
          "name": "stdout",
          "text": [
            "\"python de cu é rola\"\n"
          ]
        }
      ]
    },
    {
      "cell_type": "markdown",
      "source": [
        "#Funções built-in"
      ],
      "metadata": {
        "id": "jQm2HUxAGuCD"
      }
    },
    {
      "cell_type": "code",
      "source": [
        "#abs() valor absoluto \n",
        "#max() maior valor \n",
        "#min() menor\n",
        "#pow(x,y) x valor e y potência\n",
        "#round(x,y) x valor e y quantas casas decimais \n",
        "#divmod(x,y)x numerardor e y denominador \n",
        "#chr() mapeia o numero para caracter UTF-8 ord() faz o inverso\n",
        "\n",
        "lista = [1,0,34,5,6]\n",
        "\n",
        "print(max(lista))\n",
        "print(min(lista))\n",
        "print(pow(2,3))\n",
        "print(divmod(10,2))\n",
        "\n",
        "\n",
        "for i in range(0,101):\n",
        "  print(\"%d - %s\"%(i,chr(i)))\n",
        "\n"
      ],
      "metadata": {
        "id": "3kbmCw1DGzPV"
      },
      "execution_count": null,
      "outputs": []
    },
    {
      "cell_type": "code",
      "source": [
        "print(ord(\"a\"))"
      ],
      "metadata": {
        "colab": {
          "base_uri": "https://localhost:8080/"
        },
        "id": "Lyw7m0JMS0aj",
        "outputId": "ae01909f-ec13-499c-b9c0-d700cee83e95"
      },
      "execution_count": null,
      "outputs": [
        {
          "output_type": "stream",
          "name": "stdout",
          "text": [
            "97\n"
          ]
        }
      ]
    },
    {
      "cell_type": "markdown",
      "source": [
        "#Funções para formatação de Strings\n"
      ],
      "metadata": {
        "id": "rGQ4NIj1THMk"
      }
    },
    {
      "cell_type": "code",
      "source": [
        "#.capitalize() primeira letra maiuscula\n",
        "#.lower() tudo para minúsculo\n",
        "#.upper() tudo para maiusculo\n",
        "#.swapcase() inverte\n",
        "#.title() primeira letra maiuscula\n",
        "#.center() centraliza pode passar um numero como parametro e o caracter para\n",
        "#espaço em branco \n",
        "#.rjust() justifica para direita passando o numero como parametro\n",
        "#.ljust() justifica para esquerda passando o numero como parametro\n",
        "#.count() conta a ocorrencia do parametro no texto \n",
        "#.startswith()/.endswith() se começa/ termina com o paratro passado \n",
        "#.find() encontra o indice do parametro .index() faz praticamente a mesma coisa\n",
        "#.replace() substitui um ocorrencia pelo parametro\n",
        "#.split() transforma o texto em uma lista .splitlines() linhas em lista\n",
        "#.isalpha() método que avalia se possui somente caracteres alfanuméricos\n",
        "#.isalnum() avalia se possui texto e número\n",
        "#.isdecimal() se é decimal\n",
        "#.isspace()  caracter em branco\n",
        "#.isupper() se todas letras estão em caixa alta\n",
        "#.islower() se todas letras estão minusculas\n",
        "texto = \" jean carlo lucas pinto \"\n",
        "print(texto.capitalize())\n",
        "print(texto.lower())\n",
        "print(texto.upper())\n",
        "print(texto.swapcase())\n",
        "print(texto.title())\n",
        "print(texto.center(30,\"-\"))\n",
        "print(texto.ljust(30))\n",
        "print(texto.count(\"a\"))\n",
        "print(texto.startswith(' '))\n",
        "print(texto.endswith(\"o\"))\n",
        "print(texto.find(\"n\"))\n",
        "print(texto.replace(\"a\",\"@\"))\n",
        "print(texto.splitlines())\n",
        "print(texto.isalpha())\n",
        "print(texto.isalnum())\n",
        "print(texto.split())\n",
        "print(texto.isspace())\n",
        "print(texto.islower())"
      ],
      "metadata": {
        "id": "DTUZ2N-VTK6Y",
        "colab": {
          "base_uri": "https://localhost:8080/"
        },
        "outputId": "65a8297f-80fb-4052-e2a9-0fbd9d3ba227"
      },
      "execution_count": null,
      "outputs": [
        {
          "output_type": "stream",
          "name": "stdout",
          "text": [
            " jean carlo lucas pinto \n",
            " jean carlo lucas pinto \n",
            " JEAN CARLO LUCAS PINTO \n",
            " JEAN CARLO LUCAS PINTO \n",
            " Jean Carlo Lucas Pinto \n",
            "--- jean carlo lucas pinto ---\n",
            " jean carlo lucas pinto       \n",
            "3\n",
            "True\n",
            "False\n",
            "4\n",
            " je@n c@rlo luc@s pinto \n",
            "[' jean carlo lucas pinto ']\n",
            "False\n",
            "False\n",
            "['jean', 'carlo', 'lucas', 'pinto']\n",
            "False\n",
            "True\n"
          ]
        }
      ]
    },
    {
      "cell_type": "markdown",
      "source": [
        "#Funções para listas"
      ],
      "metadata": {
        "id": "MBO3aY-AbNVW"
      }
    },
    {
      "cell_type": "code",
      "source": [
        "#.sort() ordena a lista serve para texto \n",
        "#.reverse() inverte a ordem mesmo se não tiver ordenado \n",
        "lista_u = [90,12,3,4,9,1,0]\n",
        "lista_u.sort()\n",
        "print(lista_u)\n",
        "lista_u.sort(reverse=True) #reverte pode aceitar key=func\n",
        "print(lista_u)\n"
      ],
      "metadata": {
        "id": "sYsPtdE5bRIz",
        "colab": {
          "base_uri": "https://localhost:8080/"
        },
        "outputId": "6ee68ab4-5b75-41aa-cf81-a642cec0c6ef"
      },
      "execution_count": null,
      "outputs": [
        {
          "output_type": "stream",
          "name": "stdout",
          "text": [
            "[0, 1, 3, 4, 9, 12, 90]\n",
            "[90, 12, 9, 4, 3, 1, 0]\n"
          ]
        }
      ]
    },
    {
      "cell_type": "markdown",
      "source": [
        "#converte para iniciais maiusculas"
      ],
      "metadata": {
        "id": "t9Llf-fq9saN"
      }
    },
    {
      "cell_type": "code",
      "source": [
        "entrada = input(\"digite o texto: \")\n",
        "print(entrada.title())"
      ],
      "metadata": {
        "id": "s5sJKFQExS4a",
        "colab": {
          "base_uri": "https://localhost:8080/"
        },
        "outputId": "f170c7f8-972e-4b9d-fd7c-a0e19c5d6d63"
      },
      "execution_count": null,
      "outputs": [
        {
          "output_type": "stream",
          "name": "stdout",
          "text": [
            "digite o texto: DIEGO ROBERTO FERRAREZI\n",
            "Diego Roberto Ferrarezi\n"
          ]
        }
      ]
    },
    {
      "cell_type": "markdown",
      "source": [
        "#tupla --> dict"
      ],
      "metadata": {
        "id": "n0n75QZ8Gu4B"
      }
    },
    {
      "cell_type": "code",
      "source": [
        "nomes = (\"jean\",\"kelly\",\"jose\",\"maria\")\n",
        "dicionario = dict.fromkeys(nomes, 10)\n",
        "print(dicionario)"
      ],
      "metadata": {
        "id": "bnI8W1w2jWf3",
        "colab": {
          "base_uri": "https://localhost:8080/"
        },
        "outputId": "ea4163bc-ade9-454d-d60f-0289c226cca8"
      },
      "execution_count": null,
      "outputs": [
        {
          "output_type": "stream",
          "name": "stdout",
          "text": [
            "{'jean': 10, 'kelly': 10, 'jose': 10, 'maria': 10}\n"
          ]
        }
      ]
    },
    {
      "cell_type": "markdown",
      "source": [
        "#Data e Hora"
      ],
      "metadata": {
        "id": "vVv2zDRrHLWL"
      }
    },
    {
      "cell_type": "code",
      "source": [
        "#Y ano\n",
        "#m mês\n",
        "#d dia \n",
        "#H hora formato 00-23\n",
        "#M minuto\n",
        "#S segundo\n",
        "#A dia da semana\n",
        "#a dia da semana abrev.\n",
        "#B nome do mês\n",
        "#b nome do mês abrev.\n",
        "#I hora no formato de 12h\n",
        "#p Am PM \n",
        "\n",
        "\n",
        "import datetime\n",
        "data_full= datetime.datetime.now()\n",
        "\n",
        "data = data_full.date()\n",
        "hora = data_full.time()\n",
        "\n",
        "print(data_full)\n",
        "print(data)\n",
        "print(hora)\n",
        "\n",
        "date = datetime.date(day=20, month=10, year=2022)\n",
        "print(date)\n",
        "print(type(date))\n",
        "\n",
        "hor = datetime.time(11,24,1)\n",
        "print(hor)\n",
        "\n",
        "formatada_hora = data_full.strftime(\"%y/%d/%m - %H:%M:%S\") #transforma data em string\n",
        "print(formatada_hora)\n",
        "print(type(formatada_hora))"
      ],
      "metadata": {
        "id": "MomwhSQSHNuf",
        "colab": {
          "base_uri": "https://localhost:8080/"
        },
        "outputId": "70cbec9d-021d-4997-d5a6-725f5c511561"
      },
      "execution_count": null,
      "outputs": [
        {
          "output_type": "stream",
          "name": "stdout",
          "text": [
            "2022-11-21 15:05:02.907109\n",
            "2022-11-21\n",
            "15:05:02.907109\n",
            "2022-10-20\n",
            "<class 'datetime.date'>\n",
            "11:24:01\n",
            "22/21/11 - 15:05:02\n",
            "<class 'str'>\n"
          ]
        }
      ]
    },
    {
      "cell_type": "code",
      "source": [
        "import datetime\n",
        "\n",
        "data_antes = datetime.datetime(2000,1,1,0,0,0)\n",
        "data_now = datetime.datetime.now()\n",
        "dif = data_now - data_antes\n",
        "\n",
        "print(\"Do ano 2000 passou\", dif.days, \"dias\")\n",
        "print(\"Do ano 2000 passou\", dif.seconds, \"segundos\")"
      ],
      "metadata": {
        "id": "MMOZEgC7YzjY",
        "colab": {
          "base_uri": "https://localhost:8080/"
        },
        "outputId": "dc35a784-bc56-4905-b343-8bcd0d58ed54"
      },
      "execution_count": null,
      "outputs": [
        {
          "output_type": "stream",
          "name": "stdout",
          "text": [
            "Do ano 2000 passou 8360 dias\n",
            "Do ano 2000 passou 54352 segundos\n"
          ]
        }
      ]
    },
    {
      "cell_type": "code",
      "source": [
        "import datetime\n",
        "\n",
        "data_txt = input(\"Digite a data no formato dia/mês/ano: \")\n",
        "datetime = datetime.datetime.strptime(data_txt,\"%d/%m/%Y\")\n",
        "print(datetime)\n",
        "print(type(datetime))\n"
      ],
      "metadata": {
        "id": "xcg_KzxsbhqL",
        "colab": {
          "base_uri": "https://localhost:8080/"
        },
        "outputId": "3ee774b9-18f1-4cea-927d-99f2d6d2c5a3"
      },
      "execution_count": null,
      "outputs": [
        {
          "output_type": "stream",
          "name": "stdout",
          "text": [
            "Digite a data no formato dia/mês/ano: 21/11/2022\n",
            "2022-11-21 00:00:00\n",
            "<class 'datetime.datetime'>\n"
          ]
        }
      ]
    },
    {
      "cell_type": "markdown",
      "source": [
        "#exercícios"
      ],
      "metadata": {
        "id": "LEwJWMqAdI6S"
      }
    },
    {
      "cell_type": "code",
      "source": [
        "def sub(a,b):\n",
        "  return abs(a) - abs(b)\n",
        "var = sub(10,2)\n",
        "\n",
        "print(var)"
      ],
      "metadata": {
        "id": "qNpQvwTpdKgY",
        "colab": {
          "base_uri": "https://localhost:8080/"
        },
        "outputId": "6e55ecb9-b089-4079-f9bf-ff4508c14e8f"
      },
      "execution_count": null,
      "outputs": [
        {
          "output_type": "stream",
          "name": "stdout",
          "text": [
            "8\n"
          ]
        }
      ]
    },
    {
      "cell_type": "code",
      "source": [
        "def soma(x,y):\n",
        "  sum = x + y\n",
        "  sum = min(10000,sum)\n",
        "  sum = max(0,sum)\n",
        "  return sum \n",
        "\n",
        "print(soma(20,20))\n",
        "print(soma(6000,7000))\n",
        "print(soma(10,-30))   "
      ],
      "metadata": {
        "id": "ZU6VNeg7hU4r",
        "colab": {
          "base_uri": "https://localhost:8080/"
        },
        "outputId": "859fc125-36f2-4f0a-bf59-ae1a89dbbd70"
      },
      "execution_count": null,
      "outputs": [
        {
          "output_type": "stream",
          "name": "stdout",
          "text": [
            "40\n",
            "10000\n",
            "0\n"
          ]
        }
      ]
    },
    {
      "cell_type": "code",
      "source": [
        "def nenor(*num):\n",
        "  menor = num[0]\n",
        "  for i in num:\n",
        "    menor = min(i,menor)\n",
        "  return menor\n",
        "\n",
        "print(nenor(10,-2,3,6,5,8,1))   "
      ],
      "metadata": {
        "id": "Cdjx5mRQjDVf",
        "colab": {
          "base_uri": "https://localhost:8080/"
        },
        "outputId": "7aeb430f-6836-4fd5-be8b-e86830c1151a"
      },
      "execution_count": null,
      "outputs": [
        {
          "output_type": "stream",
          "name": "stdout",
          "text": [
            "-2\n"
          ]
        }
      ]
    },
    {
      "cell_type": "code",
      "source": [
        "def encontra_ocor(texto, letra):\n",
        "  lista = []\n",
        "  index = 0\n",
        "  for ind in texto: \n",
        "    if(ind == letra):\n",
        "      lista.append(index)\n",
        "    index += 1\n",
        "  return lista\n",
        "\n",
        "print(encontra_ocor(\"jean carlo\", \"j\"))    "
      ],
      "metadata": {
        "id": "55g4Ov5qqJkt"
      },
      "execution_count": null,
      "outputs": []
    },
    {
      "cell_type": "code",
      "source": [
        "def censura(texto, palavras):\n",
        "  for palavr in palavras:\n",
        "    if palavr in texto:\n",
        "      texto=texto.replace(palavr,\"*\")\n",
        "  return texto\n",
        "texto_usu = \"jean foda do caralho\"\n",
        "proibidos = [\"foda\",\"caralho\"]\n",
        "print(censura(texto_usu,proibidos))     \n"
      ],
      "metadata": {
        "colab": {
          "base_uri": "https://localhost:8080/"
        },
        "id": "qDpp3C78ssgV",
        "outputId": "0f451d42-2e64-4f58-8a22-bb405502b062"
      },
      "execution_count": null,
      "outputs": [
        {
          "output_type": "stream",
          "name": "stdout",
          "text": [
            "jean * do *\n"
          ]
        }
      ]
    },
    {
      "cell_type": "code",
      "source": [
        "import datetime\n",
        "\n",
        "nasceu = input(\"Digite a sua data de nascimento: \")\n",
        "data_nasceu = datetime.datetime.strptime(nasceu,\"%d/%m/%Y\")\n",
        "data_atual = datetime.datetime.now()\n",
        "dif = data_atual - data_nasceu \n",
        "\n",
        "print(\"Você já viveu\",dif,\" dias\")\n"
      ],
      "metadata": {
        "colab": {
          "base_uri": "https://localhost:8080/"
        },
        "id": "xIEXaa1gqLqg",
        "outputId": "37ec48b6-65f4-4cae-c675-84d266cf0298"
      },
      "execution_count": null,
      "outputs": [
        {
          "output_type": "stream",
          "name": "stdout",
          "text": [
            "Digite a sua data de nascimento: 16/09/1988\n",
            "Você já viveu 12453 days, 18:14:57.072490  dias\n"
          ]
        }
      ]
    },
    {
      "cell_type": "markdown",
      "source": [],
      "metadata": {
        "id": "SeuFlNFPOPNx"
      }
    },
    {
      "cell_type": "markdown",
      "source": [
        "#Classes"
      ],
      "metadata": {
        "id": "JznxDGIROSp1"
      }
    },
    {
      "cell_type": "code",
      "source": [
        "#contrutor padrão seta os atributos, inicializar parâmetros\n",
        "#executdada imediatamente quando se instancia um objeto \n",
        "class Eu ():\n",
        "  def __init__(self):\n",
        "    print(\"Eu existo\")\n",
        "Eu()    "
      ],
      "metadata": {
        "colab": {
          "base_uri": "https://localhost:8080/"
        },
        "id": "B0C57I4jOUeH",
        "outputId": "a8b91a26-8cd0-4875-9b40-64d76f55f5d4"
      },
      "execution_count": null,
      "outputs": [
        {
          "output_type": "stream",
          "name": "stdout",
          "text": [
            "Eu existo\n"
          ]
        },
        {
          "output_type": "execute_result",
          "data": {
            "text/plain": [
              "<__main__.Eu at 0x7f44b8a9b810>"
            ]
          },
          "metadata": {},
          "execution_count": 2
        }
      ]
    },
    {
      "cell_type": "code",
      "source": [
        "class pessoa():\n",
        "  especie = \"Homo Sapiesn\" # atributo visível a todas as instâncias da classe\n",
        "  #atributo estático\n",
        "  num_pessoas = 0\n",
        "  def __init__(self,nome,idade):\n",
        "    self.nome = nome\n",
        "    self.idade = idade\n",
        "    pessoa.num_pessoas += 1\n",
        "    print(\"Pessoa criada com nome %s e idade %d\"%(nome,idade))\n",
        "  def printNome(self):\n",
        "    print(\"Meu nome é %s\"%(self.nome))  \n",
        "\n",
        "pessoa1 = pessoa(\"jean\",34)\n",
        "pessoa2 = pessoa(\"kelly\",24)    \n",
        "print(pessoa.num_pessoas)\n",
        "pessoa1.printNome()\n",
        "\n"
      ],
      "metadata": {
        "colab": {
          "base_uri": "https://localhost:8080/"
        },
        "id": "2D7rX7sIPXXa",
        "outputId": "08851886-5caf-4013-c0fb-ed53a2d0cc99"
      },
      "execution_count": null,
      "outputs": [
        {
          "output_type": "stream",
          "name": "stdout",
          "text": [
            "Pessoa criada com nome jean e idade 34\n",
            "Pessoa criada com nome kelly e idade 24\n",
            "2\n",
            "Meu nome é jean\n"
          ]
        }
      ]
    },
    {
      "cell_type": "markdown",
      "source": [
        "#herança"
      ],
      "metadata": {
        "id": "raimvNlZZ1Tb"
      }
    },
    {
      "cell_type": "code",
      "source": [
        "#classes filhas herdam atributos e funções das classes pais\n",
        "class formaGeometrica():\n",
        "  def __init__(self, alt, larg):\n",
        "    self.alt = alt\n",
        "    self.larg = larg\n",
        "  def funcaoHerdada(self):\n",
        "    print(\"Sou herança\")  \n",
        "#quadrado herdando os atributos de formaGeometrica\n",
        "class quadrado(formaGeometrica):\n",
        "  lado = 10\n",
        "\n",
        "class triangulo(formaGeometrica):\n",
        "  angulo = 45\n",
        "\n",
        "\n",
        "quadrado = quadrado(50,100)\n",
        "triangulo = triangulo(5,10)\n",
        "\n",
        "print(quadrado.alt)\n",
        "print(quadrado.larg)\n",
        "print(triangulo.alt)\n",
        "print(triangulo.larg)\n",
        "print(quadrado.lado)\n",
        "print(triangulo.angulo)\n",
        "print(quadrado.funcaoHerdada())\n",
        "\n"
      ],
      "metadata": {
        "id": "MmI6CxSOZ2Yx",
        "colab": {
          "base_uri": "https://localhost:8080/"
        },
        "outputId": "46e87b61-a5a1-47d0-d70c-87a285c09a38"
      },
      "execution_count": null,
      "outputs": [
        {
          "output_type": "stream",
          "name": "stdout",
          "text": [
            "50\n",
            "100\n",
            "5\n",
            "10\n",
            "10\n",
            "45\n",
            "Sou herança\n",
            "None\n"
          ]
        }
      ]
    },
    {
      "cell_type": "code",
      "source": [
        "#override sobreposição dos métodos __init__()\n",
        "class classePai():\n",
        "  def __init__(self):\n",
        "    print(\"Eu sou o Pai\")\n",
        "\n",
        "class classefilha1(classePai):\n",
        "  def __init__(self):\n",
        "    print(\"Sou a classe filha 1\")\n",
        "\n",
        "class classefilha2(classePai):\n",
        "  def __init__(self):\n",
        "    print(\"Sou a classe filha 2\")\n",
        "\n",
        "pai = classePai()\n",
        "filho1 = classefilha1()\n",
        "filho2 = classefilha2() "
      ],
      "metadata": {
        "id": "W27xzJl2kRo-",
        "colab": {
          "base_uri": "https://localhost:8080/"
        },
        "outputId": "3de401b5-2de9-4268-f741-daa8df7a7e05"
      },
      "execution_count": null,
      "outputs": [
        {
          "output_type": "stream",
          "name": "stdout",
          "text": [
            "Eu sou o Pai\n",
            "Sou a classe filha 1\n",
            "Sou a classe filha 2\n"
          ]
        }
      ]
    },
    {
      "cell_type": "code",
      "source": [
        "class formaGeometrica():\n",
        "  def __init__(self,altura,largura):\n",
        "    self.altura = altura\n",
        "    self.largura = largura\n",
        "  def area(self):\n",
        "    pass\n",
        "\n",
        "class Quadrado(formaGeometrica):\n",
        "  def area(self):\n",
        "    return self.altura * self.largura\n",
        "\n",
        "class Triangulo(formaGeometrica):\n",
        "  def area(self):\n",
        "    return (self.altura * self.largura)/2\n",
        "\n",
        "quadrado = Quadrado(5,10)\n",
        "triangulo = Triangulo(20,6)\n",
        "print(quadrado.area())  \n",
        "print(triangulo.area())\n",
        "\n"
      ],
      "metadata": {
        "id": "OgB8AomzmiPn",
        "colab": {
          "base_uri": "https://localhost:8080/"
        },
        "outputId": "2dc5a835-30f0-44d9-bf27-416c932b7310"
      },
      "execution_count": null,
      "outputs": [
        {
          "output_type": "stream",
          "name": "stdout",
          "text": [
            "50\n",
            "60.0\n"
          ]
        }
      ]
    },
    {
      "cell_type": "markdown",
      "source": [
        "#Modificadores de Acesso \n"
      ],
      "metadata": {
        "id": "SXBrdMkW2YwM"
      }
    },
    {
      "cell_type": "code",
      "source": [
        "class segredo():\n",
        "  def __init__(self):\n",
        "    self.__senha = \"0123\" #atributo privado da classe\n",
        "  def __printsegredo(self):\n",
        "    print(self.__senha)\n",
        "  def printseredo(self):\n",
        "    print(self.__senha)    \n",
        "\n",
        "seg = segredo()\n",
        "seg.printseredo()\n",
        "\n"
      ],
      "metadata": {
        "id": "FHaUQE4k2brG",
        "colab": {
          "base_uri": "https://localhost:8080/",
          "height": 217
        },
        "outputId": "1a458a3a-60f2-41b9-b5a3-3437d4f3d318"
      },
      "execution_count": null,
      "outputs": [
        {
          "output_type": "stream",
          "name": "stdout",
          "text": [
            "0123\n"
          ]
        },
        {
          "output_type": "error",
          "ename": "AttributeError",
          "evalue": "ignored",
          "traceback": [
            "\u001b[0;31m---------------------------------------------------------------------------\u001b[0m",
            "\u001b[0;31mAttributeError\u001b[0m                            Traceback (most recent call last)",
            "\u001b[0;32m<ipython-input-24-bf74045dd2fd>\u001b[0m in \u001b[0;36m<module>\u001b[0;34m\u001b[0m\n\u001b[1;32m      9\u001b[0m \u001b[0mseg\u001b[0m \u001b[0;34m=\u001b[0m \u001b[0msegredo\u001b[0m\u001b[0;34m(\u001b[0m\u001b[0;34m)\u001b[0m\u001b[0;34m\u001b[0m\u001b[0;34m\u001b[0m\u001b[0m\n\u001b[1;32m     10\u001b[0m \u001b[0mseg\u001b[0m\u001b[0;34m.\u001b[0m\u001b[0mprintseredo\u001b[0m\u001b[0;34m(\u001b[0m\u001b[0;34m)\u001b[0m\u001b[0;34m\u001b[0m\u001b[0;34m\u001b[0m\u001b[0m\n\u001b[0;32m---> 11\u001b[0;31m \u001b[0mseg\u001b[0m\u001b[0;34m.\u001b[0m\u001b[0m__printsegredo\u001b[0m\u001b[0;34m(\u001b[0m\u001b[0;34m)\u001b[0m\u001b[0;34m\u001b[0m\u001b[0;34m\u001b[0m\u001b[0m\n\u001b[0m",
            "\u001b[0;31mAttributeError\u001b[0m: 'segredo' object has no attribute '__printsegredo'"
          ]
        }
      ]
    },
    {
      "cell_type": "code",
      "source": [
        "class veiculo:\n",
        "  def __init__(self):\n",
        "    self.__marcha = 1\n",
        "  def aumentamarcha(self):\n",
        "    self.__marcha +=1\n",
        "    self.__marcha = min(self.__marcha,5)\n",
        "  def diminuimarcha(self):   \n",
        "    self.__marcha -=1\n",
        "    self.__marcha = max(self.__marcha,1) \n",
        "  def marchaatual(self):\n",
        "    return self.__marcha\n",
        "\n",
        "\n",
        "carro = veiculo()\n",
        "print(carro.marchaatual()) \n",
        "carro.aumentamarcha() \n",
        "print(carro.marchaatual())    \n"
      ],
      "metadata": {
        "id": "IhDoqR-36cHb"
      },
      "execution_count": null,
      "outputs": []
    },
    {
      "cell_type": "code",
      "source": [
        "class pessoa():\n",
        "  def __init__(self,nome):\n",
        "    self.__nome = nome\n",
        "  def get_nome(self): \n",
        "    print(\"pegando o nome\")\n",
        "    return self.__nome\n",
        "\n",
        "  nome = property(get_nome) #fset, fget, fdel ----> parametros\n",
        "\n",
        "\n",
        "instancia = pessoa(\"jean\")\n",
        "print(instancia.nome)\n",
        "\n"
      ],
      "metadata": {
        "id": "BLcvdh0w8WGZ",
        "colab": {
          "base_uri": "https://localhost:8080/"
        },
        "outputId": "e00369ec-ea2e-40e1-b4cf-b7c894a23161"
      },
      "execution_count": null,
      "outputs": [
        {
          "output_type": "stream",
          "name": "stdout",
          "text": [
            "pegando o nome\n",
            "jean\n"
          ]
        }
      ]
    },
    {
      "cell_type": "code",
      "source": [
        "class pessoa():\n",
        "  def __init__(self,nome):\n",
        "    self.__nome = nome\n",
        "  @property\n",
        "  def nome(self):\n",
        "    return self.__nome.capitalize\n",
        "  @nome.setter\n",
        "  def nome(self, value):\n",
        "    if(len(value)!=0):\n",
        "      self.__nome = value\n",
        "\n",
        "pess = pessoa(\"Jean\")\n",
        "print(pess.nome())\n",
        "pess.nome = \"Jean Carlo\"\n",
        "print(pess.nome())\n",
        "pess.nome = \"\"\n",
        "print(pess.nome())\n",
        "\n",
        "\n",
        "\n"
      ],
      "metadata": {
        "id": "Ow4HWHqnca36",
        "colab": {
          "base_uri": "https://localhost:8080/"
        },
        "outputId": "58670912-216b-4bf3-b029-47a9fec7b593"
      },
      "execution_count": null,
      "outputs": [
        {
          "output_type": "stream",
          "name": "stdout",
          "text": [
            "Jean\n",
            "Jean carlo\n",
            "Jean carlo\n"
          ]
        }
      ]
    },
    {
      "cell_type": "code",
      "source": [
        "class Test():\n",
        "  def __init__(self, gas):\n",
        "    pass\n",
        "  @classmethod\n",
        "  def class_method(cls):\n",
        "    print(cls)  \n",
        "  @staticmethod #pode ser chamado sem instancia da classe\n",
        "  def static_method():\n",
        "    print(\"método estático\")  \n",
        "\n",
        "Test.class_method()\n",
        "Test.static_method()    \n"
      ],
      "metadata": {
        "id": "Qjj8sjLk6eXW"
      },
      "execution_count": null,
      "outputs": []
    },
    {
      "cell_type": "code",
      "source": [
        "class veiculo:\n",
        "  def __init__(self,nome, combustivel, potencia):\n",
        "    self.nome = nome\n",
        "    self.combustivel = combustivel\n",
        "    self.potencia = potencia\n",
        "  @classmethod\n",
        "  def cria_carro(cls):\n",
        "    return cls(\"carro\",\"comum\", 20)\n",
        "  @classmethod\n",
        "  def cria_trator(cls):\n",
        "    return cls(\"trator\", \"diesel\", 100)\n",
        "\n",
        "\n",
        "carro = veiculo.cria_carro()\n",
        "trator = veiculo.cria_trator()\n",
        "\n",
        "print(carro.nome)\n",
        "print(carro.combustivel)\n",
        "print(trator.nome)\n"
      ],
      "metadata": {
        "id": "0VZGdOXggU5E"
      },
      "execution_count": null,
      "outputs": []
    },
    {
      "cell_type": "code",
      "source": [
        "class Veiculo:\n",
        "  __numero_instancias = 0\n",
        "  def __init__(self,nome,combs,pot):\n",
        "    self.nome = nome\n",
        "    self.combs = combs\n",
        "    self.pot = pot\n",
        "    Veiculo.__numero_instancias +=1\n",
        "  @staticmethod\n",
        "  def get_instancias():\n",
        "    return Veiculo.__numero_instancias\n",
        "\n",
        "carro = Veiculo(\"carro\",\"gasolina\",50)\n",
        "caminhao = Veiculo(\"truck\",\"diesel\",\"500\") \n",
        "\n",
        "print(Veiculo.get_instancias())\n",
        "\n"
      ],
      "metadata": {
        "id": "nN2C5edErgmM",
        "colab": {
          "base_uri": "https://localhost:8080/"
        },
        "outputId": "8f25f962-c303-4127-9398-796dc117e179"
      },
      "execution_count": null,
      "outputs": [
        {
          "output_type": "stream",
          "name": "stdout",
          "text": [
            "2\n"
          ]
        }
      ]
    },
    {
      "cell_type": "markdown",
      "source": [
        "#With"
      ],
      "metadata": {
        "id": "_PnZwZjgkZDx"
      }
    },
    {
      "cell_type": "code",
      "source": [
        "class Lista():\n",
        "  def __init__(self):\n",
        "    pass\n",
        "\n",
        "  def __enter__(self):\n",
        "    print(\"Memória iniciada\")\n",
        "    self.lista = [i for i in range(0,11)]\n",
        "    return self.lista\n",
        "\n",
        "  def __exit__(self,*args,**kwargs):\n",
        "    print(\"memória liberada\")\n",
        "    del self.lista\n",
        "\n",
        "#instancia\n",
        "with Lista() as temp_lista:\n",
        "  for i in temp_lista:\n",
        "    print(i)\n",
        "\n",
        "print(\"Objeto não existe mais\")"
      ],
      "metadata": {
        "id": "dA-BeV32kdSi",
        "colab": {
          "base_uri": "https://localhost:8080/"
        },
        "outputId": "82aa0627-8c65-406f-a531-a9dcf794c71f"
      },
      "execution_count": null,
      "outputs": [
        {
          "output_type": "stream",
          "name": "stdout",
          "text": [
            "Memória iniciada\n",
            "0\n",
            "1\n",
            "2\n",
            "3\n",
            "4\n",
            "5\n",
            "6\n",
            "7\n",
            "8\n",
            "9\n",
            "10\n",
            "memória liberada\n",
            "Objeto não existe mais\n"
          ]
        }
      ]
    },
    {
      "cell_type": "markdown",
      "source": [
        "#Exercícios sobre classes e objetos"
      ],
      "metadata": {
        "id": "ezI63Y6UqJ-u"
      }
    },
    {
      "cell_type": "code",
      "source": [
        "class veiculo:\n",
        "  def __init__(self,tipo,rodas,potencia):\n",
        "    self.tipo = tipo\n",
        "    self.rodas = rodas\n",
        "    self.potencia = potencia\n",
        "\n",
        "class moto(veiculo):\n",
        "  def __init__(self,tipo,rodas,potencia):\n",
        "   veiculo.__init__(self,tipo,rodas,potencia)\n",
        "   \n",
        "\n",
        " \n",
        "\n",
        "\n",
        "moto1 = moto(\"moto\",2,160)\n",
        "\n",
        "print(moto1.tipo)\n",
        "\n"
      ],
      "metadata": {
        "id": "Y37UCuYaqQOY"
      },
      "execution_count": null,
      "outputs": []
    },
    {
      "cell_type": "code",
      "source": [
        "class NumeroNegativo:\n",
        "  def __init__(self, num):\n",
        "    self.__num = 0\n",
        "    self.num = num\n",
        "  @property\n",
        "  def num(self):\n",
        "    return self.__num\n",
        "  @num.setter\n",
        "  def num(self,value):\n",
        "    if(value <=0):\n",
        "      self.__num = value\n",
        "  def __lt__(self,outro):\n",
        "     return self.__num < outro.num\n",
        "  def __gt__(self,outro):\n",
        "     return self.__num > outro.__num  \n",
        "  def __sub__(self,outro):\n",
        "     sub = self.__num - outro.__num   \n",
        "     if sub > 0 :\n",
        "       sub = 0\n",
        "     return sub  \n",
        "      \n",
        "\n",
        "num1 = NumeroNegativo(-7)\n",
        "num2 = NumeroNegativo(-3)\n",
        "num3 = NumeroNegativo(2)\n",
        "\n",
        "print(num1.num, num2.num, num3.num)\n",
        "\n",
        "\n"
      ],
      "metadata": {
        "id": "BHdQpJuX3hwl"
      },
      "execution_count": null,
      "outputs": []
    },
    {
      "cell_type": "code",
      "source": [
        "def testa_obj(obj):\n",
        "  if isinstance(obj,(int,float,str,bool)):\n",
        "    print(\"Passado por valor\")\n",
        "  else:\n",
        "    print(\"Passado por referencia\")\n",
        "\n",
        "class objeto():\n",
        "  def __init__(self):\n",
        "    pass\n",
        "\n",
        "\n",
        "obj = objeto()\n",
        "valor =  3\n",
        "\n",
        "testa_obj(obj)\n",
        "testa_obj(valor)\n"
      ],
      "metadata": {
        "colab": {
          "base_uri": "https://localhost:8080/"
        },
        "id": "i_X4QVxWAPVT",
        "outputId": "6c9782fb-b44c-4760-e37a-176c8f48cd28"
      },
      "execution_count": null,
      "outputs": [
        {
          "output_type": "stream",
          "name": "stdout",
          "text": [
            "Passado por referencia\n",
            "Passado por valor\n"
          ]
        }
      ]
    },
    {
      "cell_type": "markdown",
      "source": [
        "#Módulos\n"
      ],
      "metadata": {
        "id": "P6uSun6PC21J"
      }
    },
    {
      "cell_type": "code",
      "source": [
        "#funções do módulo\n",
        "import random\n",
        "print(dir(random))\n",
        "print(random.__doc__)\n",
        "print(random.__name__)\n",
        "print(random.__file__)"
      ],
      "metadata": {
        "id": "vZvtVSEJC48a"
      },
      "execution_count": null,
      "outputs": []
    },
    {
      "cell_type": "code",
      "source": [
        "from random import randrange\n",
        "print(randrange.__doc__)"
      ],
      "metadata": {
        "colab": {
          "base_uri": "https://localhost:8080/"
        },
        "id": "qJivaT4UEe6c",
        "outputId": "a2435f7a-9ef7-4d87-f09d-22e084ecb0bc"
      },
      "execution_count": null,
      "outputs": [
        {
          "output_type": "stream",
          "name": "stdout",
          "text": [
            "Choose a random item from range(start, stop[, step]).\n",
            "\n",
            "        This fixes the problem with randint() which includes the\n",
            "        endpoint; in Python this is usually not what you want.\n",
            "\n",
            "        \n"
          ]
        }
      ]
    },
    {
      "cell_type": "code",
      "source": [
        "from posixpath import join\n",
        "print(join.__doc__)"
      ],
      "metadata": {
        "colab": {
          "base_uri": "https://localhost:8080/"
        },
        "id": "cPATwOGWHhY5",
        "outputId": "3ad21d82-f99b-4981-eb17-1e91aa94fb63"
      },
      "execution_count": null,
      "outputs": [
        {
          "output_type": "stream",
          "name": "stdout",
          "text": [
            "Join two or more pathname components, inserting '/' as needed.\n",
            "    If any component is an absolute path, all previous path components\n",
            "    will be discarded.  An empty last part will result in a path that\n",
            "    ends with a separator.\n"
          ]
        }
      ]
    },
    {
      "cell_type": "markdown",
      "source": [
        "#PIP"
      ],
      "metadata": {
        "id": "m6i9II-CLBbL"
      }
    },
    {
      "cell_type": "code",
      "source": [
        "#!(exclamação comando de shell) todos os pacotes disponíveis\n",
        "# se não tiver o módulo !pip install __módulo__== versão(opcional caso haja incompatibilidade)\n",
        "#!pip uninstall ---> desistalar\n",
        "!pip list\n",
        "!pip install django\n"
      ],
      "metadata": {
        "id": "GQz3celoLCZL"
      },
      "execution_count": null,
      "outputs": []
    },
    {
      "cell_type": "markdown",
      "source": [
        "#criando um módulo\n"
      ],
      "metadata": {
        "id": "SsHrxlHbNopc"
      }
    },
    {
      "cell_type": "code",
      "source": [
        "# from Jean_módulo import Jean\n",
        "# from Jean_módulo import PI as numero_pi\n",
        "\n",
        "import Jean_módulo\n",
        "dir(Jean_módulo)\n",
        "print(Jean_módulo.__file__)"
      ],
      "metadata": {
        "colab": {
          "base_uri": "https://localhost:8080/"
        },
        "id": "9JMJ9ddyNqpY",
        "outputId": "2e3b4454-1cc3-45b2-bda6-83cc5001e6fa"
      },
      "execution_count": null,
      "outputs": [
        {
          "output_type": "stream",
          "name": "stdout",
          "text": [
            "/content/Jean_módulo.py\n"
          ]
        }
      ]
    },
    {
      "cell_type": "code",
      "source": [
        "print(__name__)\n"
      ],
      "metadata": {
        "id": "VqPcEjJ_QR0r"
      },
      "execution_count": null,
      "outputs": []
    },
    {
      "cell_type": "code",
      "source": [
        "import sys\n",
        "if(__name__ == '__main__'):\n",
        "  print('Número de argumentos:',len(sys.argv))\n",
        "  print('Os argumentos: ', sys.argv)"
      ],
      "metadata": {
        "id": "_a4TZ1OdRonm",
        "colab": {
          "base_uri": "https://localhost:8080/"
        },
        "outputId": "6c13a722-f876-46a4-a60d-ce52b2fde14a"
      },
      "execution_count": null,
      "outputs": [
        {
          "output_type": "stream",
          "name": "stdout",
          "text": [
            "Número de argumentos: 3\n",
            "Os argumentos:  ['/usr/local/lib/python3.7/dist-packages/ipykernel_launcher.py', '-f', '/root/.local/share/jupyter/runtime/kernel-7178182f-0cc6-4ae5-91cc-eb21ec4b9c90.json']\n"
          ]
        }
      ]
    },
    {
      "cell_type": "code",
      "source": [
        "import sys\n",
        "print(sys.__doc__)"
      ],
      "metadata": {
        "id": "bsYV1aS8UiTc",
        "colab": {
          "base_uri": "https://localhost:8080/"
        },
        "outputId": "1c22e8c0-82a3-454d-f1c0-78c40f34a840"
      },
      "execution_count": null,
      "outputs": [
        {
          "output_type": "stream",
          "name": "stdout",
          "text": [
            "This module provides access to some objects used or maintained by the\n",
            "interpreter and to functions that interact strongly with the interpreter.\n",
            "\n",
            "Dynamic objects:\n",
            "\n",
            "argv -- command line arguments; argv[0] is the script pathname if known\n",
            "path -- module search path; path[0] is the script directory, else ''\n",
            "modules -- dictionary of loaded modules\n",
            "\n",
            "displayhook -- called to show results in an interactive session\n",
            "excepthook -- called to handle any uncaught exception other than SystemExit\n",
            "  To customize printing in an interactive session or to install a custom\n",
            "  top-level exception handler, assign other functions to replace these.\n",
            "\n",
            "stdin -- standard input file object; used by input()\n",
            "stdout -- standard output file object; used by print()\n",
            "stderr -- standard error object; used for error messages\n",
            "  By assigning other file objects (or objects that behave like files)\n",
            "  to these, it is possible to redirect all of the interpreter's I/O.\n",
            "\n",
            "last_type -- type of last uncaught exception\n",
            "last_value -- value of last uncaught exception\n",
            "last_traceback -- traceback of last uncaught exception\n",
            "  These three are only available in an interactive session after a\n",
            "  traceback has been printed.\n",
            "\n",
            "Static objects:\n",
            "\n",
            "builtin_module_names -- tuple of module names built into this interpreter\n",
            "copyright -- copyright notice pertaining to this interpreter\n",
            "exec_prefix -- prefix used to find the machine-specific Python library\n",
            "executable -- absolute path of the executable binary of the Python interpreter\n",
            "float_info -- a named tuple with information about the float implementation.\n",
            "float_repr_style -- string indicating the style of repr() output for floats\n",
            "hash_info -- a named tuple with information about the hash algorithm.\n",
            "hexversion -- version information encoded as a single integer\n",
            "implementation -- Python implementation information.\n",
            "int_info -- a named tuple with information about the int implementation.\n",
            "maxsize -- the largest supported length of containers.\n",
            "maxunicode -- the value of the largest Unicode code point\n",
            "platform -- platform identifier\n",
            "prefix -- prefix used to find the Python library\n",
            "thread_info -- a named tuple with information about the thread implementation.\n",
            "version -- the version of this interpreter as a string\n",
            "version_info -- version information as a named tuple\n",
            "__stdin__ -- the original stdin; don't touch!\n",
            "__stdout__ -- the original stdout; don't touch!\n",
            "__stderr__ -- the original stderr; don't touch!\n",
            "__displayhook__ -- the original displayhook; don't touch!\n",
            "__excepthook__ -- the original excepthook; don't touch!\n",
            "\n",
            "Functions:\n",
            "\n",
            "displayhook() -- print an object to the screen, and save it in builtins._\n",
            "excepthook() -- print an exception and its traceback to sys.stderr\n",
            "exc_info() -- return thread-safe information about the current exception\n",
            "exit() -- exit the interpreter by raising SystemExit\n",
            "getdlopenflags() -- returns flags to be used for dlopen() calls\n",
            "getprofile() -- get the global profiling function\n",
            "getrefcount() -- return the reference count for an object (plus one :-)\n",
            "getrecursionlimit() -- return the max recursion depth for the interpreter\n",
            "getsizeof() -- return the size of an object in bytes\n",
            "gettrace() -- get the global debug tracing function\n",
            "setcheckinterval() -- control how often the interpreter checks for events\n",
            "setdlopenflags() -- set the flags to be used for dlopen() calls\n",
            "setprofile() -- set the global profiling function\n",
            "setrecursionlimit() -- set the max recursion depth for the interpreter\n",
            "settrace() -- set the global debug tracing function\n",
            "\n"
          ]
        }
      ]
    },
    {
      "cell_type": "markdown",
      "source": [
        "#documentação do módulo\n"
      ],
      "metadata": {
        "id": "acA9H4AOU61V"
      }
    },
    {
      "cell_type": "code",
      "source": [
        "''' \n",
        "Este é o arquivo principal \n",
        "'''\n",
        "print(__doc__)"
      ],
      "metadata": {
        "colab": {
          "base_uri": "https://localhost:8080/"
        },
        "id": "tDSQ7z3TU9Rd",
        "outputId": "64737d59-e782-4027-e325-6953a397e159"
      },
      "execution_count": null,
      "outputs": [
        {
          "output_type": "stream",
          "name": "stdout",
          "text": [
            " \n",
            "Este é o arquivo principal \n",
            "\n"
          ]
        }
      ]
    },
    {
      "cell_type": "code",
      "source": [
        "import Jean_módulo\n",
        "print(Jean_módulo.__doc__)\n",
        "print(Jean_módulo.Jean.__doc__)\n",
        "help(Jean_módulo)\n",
        "print(Jean_módulo.FuncNum(10))"
      ],
      "metadata": {
        "id": "NXYk73gxWEEG"
      },
      "execution_count": null,
      "outputs": []
    },
    {
      "cell_type": "code",
      "source": [
        "from meu_random import get_random_lista\n",
        "print(get_random_lista.__doc__)\n",
        "print(get_random_lista(0,100,5))\n"
      ],
      "metadata": {
        "id": "0BpTc99_faMK"
      },
      "execution_count": null,
      "outputs": []
    },
    {
      "cell_type": "markdown",
      "source": [
        "#exceções\n"
      ],
      "metadata": {
        "id": "FrT4ztoJvEl9"
      }
    },
    {
      "cell_type": "code",
      "source": [
        "try:\n",
        "  num = int('b')\n",
        "except Exception as error:\n",
        "  print(\"Ocorreu falha em: \",str(error))  "
      ],
      "metadata": {
        "colab": {
          "base_uri": "https://localhost:8080/"
        },
        "id": "o3LvVwRzvGnG",
        "outputId": "ae4c88b9-2e5e-4048-db72-515e9a47b7f7"
      },
      "execution_count": null,
      "outputs": [
        {
          "output_type": "stream",
          "name": "stdout",
          "text": [
            "Ocorreu falha em:  invalid literal for int() with base 10: 'b'\n"
          ]
        }
      ]
    },
    {
      "cell_type": "code",
      "source": [
        "print(\"Inicio\")\n",
        "list = [1,2,3]\n",
        "try:\n",
        "  print(list[10])\n",
        "except:\n",
        "  print(\"LInha não encontrada\")\n",
        "finally:#libera os recursos\n",
        "  del list\n",
        "  print(\"Executa sempre que o try-except acabar, mesmo que não ocorra erro\")    \n",
        "print(\"fim\")  "
      ],
      "metadata": {
        "colab": {
          "base_uri": "https://localhost:8080/"
        },
        "id": "7T7PLoI8vvI9",
        "outputId": "6142f176-70f8-4ac7-a935-0a939e6e558e"
      },
      "execution_count": null,
      "outputs": [
        {
          "output_type": "stream",
          "name": "stdout",
          "text": [
            "Inicio\n",
            "LInha não encontrada\n",
            "Executa sempre que o try-except acabar, mesmo que não ocorra erro\n",
            "fim\n"
          ]
        }
      ]
    },
    {
      "cell_type": "code",
      "source": [
        "print(\"Inicio\")\n",
        "list = [1,2,3]\n",
        "try:\n",
        "  print(list[0])\n",
        "except:\n",
        "  print(\"LInha não encontrada\")\n",
        "else:\n",
        "  print(\"não houve erro\")    \n",
        "print(\"fim\") "
      ],
      "metadata": {
        "id": "G2RdtJ4TwxmM"
      },
      "execution_count": null,
      "outputs": []
    },
    {
      "cell_type": "code",
      "source": [
        "print(\"Inicio\")\n",
        "list = [1,2,3]\n",
        "try:# tentativa que pode dar erro \n",
        "  print(list[0])\n",
        "except:#caso haja erro \n",
        "  print(\"LInha não encontrada\")\n",
        "else:#caso não haja erro \n",
        "  print(\"não houve erro\")  \n",
        "finally:#sempre executado \n",
        "  print(\"executa sempre\")    \n",
        "print(\"fim\") "
      ],
      "metadata": {
        "id": "kseU7eu1xGLX"
      },
      "execution_count": null,
      "outputs": []
    },
    {
      "cell_type": "code",
      "source": [
        "raise Exception(\"Meu erro\")"
      ],
      "metadata": {
        "id": "NVbT3T1Z7Q-b",
        "colab": {
          "base_uri": "https://localhost:8080/",
          "height": 165
        },
        "outputId": "ddf41c20-1076-4c45-c34e-2ffe1cc8a858"
      },
      "execution_count": null,
      "outputs": [
        {
          "output_type": "error",
          "ename": "Exception",
          "evalue": "ignored",
          "traceback": [
            "\u001b[0;31m---------------------------------------------------------------------------\u001b[0m",
            "\u001b[0;31mException\u001b[0m                                 Traceback (most recent call last)",
            "\u001b[0;32m<ipython-input-33-023d477673e0>\u001b[0m in \u001b[0;36m<module>\u001b[0;34m\u001b[0m\n\u001b[0;32m----> 1\u001b[0;31m \u001b[0;32mraise\u001b[0m \u001b[0mException\u001b[0m\u001b[0;34m(\u001b[0m\u001b[0;34m\"Meu erro\"\u001b[0m\u001b[0;34m)\u001b[0m\u001b[0;34m\u001b[0m\u001b[0;34m\u001b[0m\u001b[0m\n\u001b[0m",
            "\u001b[0;31mException\u001b[0m: Meu erro"
          ]
        }
      ]
    },
    {
      "cell_type": "code",
      "source": [
        "def print_positivo(num):\n",
        "  if num < 0:\n",
        "    raise ValueError(\"valor não pode ser negativo\")\n",
        "  print(num)  \n",
        "\n",
        "try:\n",
        "  print_positivo(-1)\n",
        "except ValueError as erro1:\n",
        "  print(\"o Erro é: \",str(erro1))\n",
        "except Exception as erro0:\n",
        "  print('Erro qualquer',str(erro0))     \n",
        "\n",
        "    \n"
      ],
      "metadata": {
        "colab": {
          "base_uri": "https://localhost:8080/"
        },
        "id": "ZDF5fZv78CWi",
        "outputId": "1c578a5a-1010-40ce-c299-9a60924bc967"
      },
      "execution_count": null,
      "outputs": [
        {
          "output_type": "stream",
          "name": "stdout",
          "text": [
            "o Erro é:  valor não pode ser negativo\n"
          ]
        }
      ]
    },
    {
      "cell_type": "code",
      "source": [
        "def print_positivo(num):\n",
        "  assert(num>=0)\n",
        "  print(num)  \n",
        "\n",
        "try:\n",
        "  print_positivo(-1)\n",
        "except AssertionError as erro1:\n",
        "  print(\"o Erro é: \", str(erro1))\n",
        "except Exception as erro0:\n",
        "  print('Erro qualquer',str(erro0)) "
      ],
      "metadata": {
        "colab": {
          "base_uri": "https://localhost:8080/"
        },
        "id": "HWXBng0z912h",
        "outputId": "41ad054a-8bc7-413e-fa6b-96c41739aa9c"
      },
      "execution_count": null,
      "outputs": [
        {
          "output_type": "stream",
          "name": "stdout",
          "text": [
            "o Erro é:  \n"
          ]
        }
      ]
    },
    {
      "cell_type": "markdown",
      "source": [
        "#Logs"
      ],
      "metadata": {
        "id": "1exfHoAzZsJk"
      }
    },
    {
      "cell_type": "code",
      "source": [
        "def custom_log(level, message):\n",
        "  import logging\n",
        "  logger = logging.getLogger(__name__)\n",
        "  if not(len(logger.handlers)):\n",
        "    logging.basicConfig(level=logging.INFO)\n",
        "    c_handler = logging.StreamHandler()\n",
        "    f_handler = logging.FileHandler('file.log')\n",
        "    format = logging.Formatter(\"%(asctime)s - %(name)s - %(levelname)s - %(message)s\")\n",
        "    c_handler.setFormatter(format)\n",
        "    f_handler.setFormatter(format)\n",
        "    logger.addHandler(c_handler)\n",
        "    logger.addHandler(f_handler)\n",
        "\n",
        "  if level == 'debug':\n",
        "    logger.debug(message)\n",
        "  elif level == 'info':\n",
        "    logger.info(message)\n",
        "  elif level == 'warning':\n",
        "    logger.warning(message)  \n",
        "  elif level == 'error':\n",
        "    logger.error(message)  \n",
        "  else:\n",
        "    logger.critical(message)  \n",
        "\n",
        "\n",
        "custom_log('warning',\"atenção parametro errado\")\n"
      ],
      "metadata": {
        "id": "V6HK38wJZtUS",
        "colab": {
          "base_uri": "https://localhost:8080/"
        },
        "outputId": "593c4d90-393b-451e-ee25-98eafbd49458"
      },
      "execution_count": null,
      "outputs": [
        {
          "output_type": "stream",
          "name": "stderr",
          "text": [
            "2022-11-21 15:36:59,094 - __main__ - WARNING - atenção parametro errado\n",
            "WARNING:__main__:atenção parametro errado\n"
          ]
        }
      ]
    },
    {
      "cell_type": "markdown",
      "source": [
        "#iterators"
      ],
      "metadata": {
        "id": "KVoczdOa69Kk"
      }
    },
    {
      "cell_type": "code",
      "source": [
        "#classes iteráveis\n",
        "class ColecaoNum:\n",
        "  def __init__(self, num_max):\n",
        "    self.num_max = num_max\n",
        "  def __iter__(self):\n",
        "    self.num_atual = 0\n",
        "    return self  \n",
        "\n",
        "  def __next__(self):\n",
        "    if self.num_atual <= self.num_max:\n",
        "      retorno = self.num_atual\n",
        "      self.num_atual +=1\n",
        "      return retorno\n",
        "    else:\n",
        "      raise StopIteration\n",
        "\n",
        "colecao = ColecaoNum(10)\n",
        "for i in colecao:\n",
        "  print(i) \n",
        "  print(type(i))       \n",
        "        \n"
      ],
      "metadata": {
        "id": "Z6vmVZqO6_06",
        "colab": {
          "base_uri": "https://localhost:8080/"
        },
        "outputId": "bc873e7b-e71d-40ef-bf74-15413eb45b41"
      },
      "execution_count": null,
      "outputs": [
        {
          "output_type": "stream",
          "name": "stdout",
          "text": [
            "0\n",
            "<class 'int'>\n",
            "1\n",
            "<class 'int'>\n",
            "2\n",
            "<class 'int'>\n",
            "3\n",
            "<class 'int'>\n",
            "4\n",
            "<class 'int'>\n",
            "5\n",
            "<class 'int'>\n",
            "6\n",
            "<class 'int'>\n",
            "7\n",
            "<class 'int'>\n",
            "8\n",
            "<class 'int'>\n",
            "9\n",
            "<class 'int'>\n",
            "10\n",
            "<class 'int'>\n"
          ]
        }
      ]
    },
    {
      "cell_type": "code",
      "source": [
        "#salva o estado da função \n",
        "def ancora():\n",
        "  yield 5\n",
        "  yield 2\n",
        "  yield 3\n",
        "\n",
        "\n",
        "for i in ancora():\n",
        "  print(i)  "
      ],
      "metadata": {
        "id": "_NpBfrpG7wEW"
      },
      "execution_count": null,
      "outputs": []
    },
    {
      "cell_type": "markdown",
      "source": [
        "#enumerate"
      ],
      "metadata": {
        "id": "nD1l5l7MaGhT"
      }
    },
    {
      "cell_type": "code",
      "source": [
        "#transforma objetos em tuplas a cada iteração\n",
        "lista = ['a','b','2','false']\n",
        "for i,d in enumerate(lista):#duas variaveis uma paara o indice e outra para o valor \n",
        "  print(i,d)"
      ],
      "metadata": {
        "id": "qRpddGQ5aJf0"
      },
      "execution_count": null,
      "outputs": []
    },
    {
      "cell_type": "code",
      "source": [
        "#funciona para funções geradoras\n",
        "def func():\n",
        "  yield '2002'\n",
        "  yield '2003'\n",
        "  yield '2004'\n",
        "  yield '2005'\n",
        "\n",
        "for i, d in enumerate(func()):#unpacking\n",
        "  print(i, d)\n"
      ],
      "metadata": {
        "id": "lrX8vIKgbp4j"
      },
      "execution_count": null,
      "outputs": []
    },
    {
      "cell_type": "code",
      "source": [
        "text = 'bla bla bla'\n",
        "print('_'.join(text))"
      ],
      "metadata": {
        "id": "hW6P40zRe3w3",
        "colab": {
          "base_uri": "https://localhost:8080/"
        },
        "outputId": "a287bebc-9c1e-493a-f1f3-fe4f3c7fbaae"
      },
      "execution_count": null,
      "outputs": [
        {
          "output_type": "stream",
          "name": "stdout",
          "text": [
            "b_l_a_ _b_l_a_ _b_l_a\n"
          ]
        }
      ]
    },
    {
      "cell_type": "code",
      "source": [
        "lis = ['a','b','c','d']\n",
        "letras = ' '.join(lis)\n",
        "print(letras)"
      ],
      "metadata": {
        "id": "qMHcXP0CfPYc",
        "colab": {
          "base_uri": "https://localhost:8080/"
        },
        "outputId": "fd5e747b-1259-4a2f-f5d6-09b5566852f9"
      },
      "execution_count": null,
      "outputs": [
        {
          "output_type": "stream",
          "name": "stdout",
          "text": [
            "a b c d\n"
          ]
        }
      ]
    },
    {
      "cell_type": "code",
      "source": [
        "let = '-'.join(str(i) for i in range(0,5))\n",
        "print(let)"
      ],
      "metadata": {
        "id": "GQmmCuldfkmt",
        "colab": {
          "base_uri": "https://localhost:8080/"
        },
        "outputId": "a8e283f4-39bc-4aea-d696-1739bc4e2a47"
      },
      "execution_count": null,
      "outputs": [
        {
          "output_type": "stream",
          "name": "stdout",
          "text": [
            "0-1-2-3-4\n"
          ]
        }
      ]
    },
    {
      "cell_type": "code",
      "source": [
        "def anos():\n",
        "  for i in range(2020,2030):\n",
        "    yield str(i)\n",
        "\n",
        "temp = '-'.join(anos())    \n",
        "print(temp)"
      ],
      "metadata": {
        "id": "AC8zMf-RgAAN",
        "colab": {
          "base_uri": "https://localhost:8080/"
        },
        "outputId": "b07355d1-3d4d-4e84-ba47-5ea69c58c07f"
      },
      "execution_count": null,
      "outputs": [
        {
          "output_type": "stream",
          "name": "stdout",
          "text": [
            "2020-2021-2022-2023-2024-2025-2026-2027-2028-2029\n"
          ]
        }
      ]
    },
    {
      "cell_type": "code",
      "source": [
        "#função iterável\n",
        "def duplicado(lista):\n",
        "  for i in lista:\n",
        "    yield i*2\n",
        "lis = [1,2,3,4,5]\n",
        "for x in duplicado(lis):\n",
        "  print(x)       "
      ],
      "metadata": {
        "id": "eOBD3uw4p25m"
      },
      "execution_count": null,
      "outputs": []
    },
    {
      "cell_type": "code",
      "source": [
        "#classe iterável\n",
        "class tabuada:\n",
        "  def __init__(self,num):\n",
        "    self.num = num\n",
        "  def __iter__(self):\n",
        "    self.atual = 0\n",
        "    return self\n",
        "  def __next__(self):\n",
        "    self.atual +=1\n",
        "    if(self.atual == 11):\n",
        "      raise StopIteration\n",
        "    return self.num * self.atual\n",
        "\n",
        "tabuada_do_2 = tabuada(2)\n",
        "for i in tabuada_do_2:\n",
        "  print(i)    \n",
        "\n",
        "\n"
      ],
      "metadata": {
        "id": "UyPJli44qgDF"
      },
      "execution_count": null,
      "outputs": []
    },
    {
      "cell_type": "code",
      "source": [
        "class Fatorial:\n",
        "  def __init__(self,x,y):\n",
        "    self.x =x\n",
        "    self.y=y\n",
        "  def __iter__(self):\n",
        "    self.atual = self.x\n",
        "    return self\n",
        "  @staticmethod\n",
        "  def calcula(num):\n",
        "    result = 1\n",
        "    for i in range(1,num+1):\n",
        "      result *= i\n",
        "    return result  \n",
        "  def __next__(self):\n",
        "    if(self.atual == self.y +1):\n",
        "      raise StopIteration\n",
        "    result = Fatorial.calcula(self.atual)\n",
        "    self.atual += 1\n",
        "    return result\n",
        "\n",
        "\n",
        "for i in Fatorial(1,10):\n",
        "  print(i)    \n",
        "\n",
        "\n"
      ],
      "metadata": {
        "id": "AumJgDt_t4hl"
      },
      "execution_count": null,
      "outputs": []
    },
    {
      "cell_type": "markdown",
      "source": [
        "#Arquivos\n"
      ],
      "metadata": {
        "id": "OAXGiaOT3yyP"
      }
    },
    {
      "cell_type": "code",
      "source": [
        "#\"r\" abre o arqv para leitura ele precisa existir caso contrário será gerado um erro \n",
        "#\"a\" abre um arqv para aenxar algo se não existir será criado \n",
        "#\"w\" abre um arqv para escrita se não existir será criado \n",
        "#\"x\" cria um arqv, se ele já existir será retornado um erro \n",
        "#segunda parte:\n",
        "#\"t\" arqv em modo texto   \n",
        "#\"b\"arqv em modo binário \n",
        "#ex: \"wt\"\n",
        "arqv = open(\"test.txt\",\"wt\")\n",
        "arqv.write(\"Jean foda \")\n",
        "arqv.close()"
      ],
      "metadata": {
        "id": "MyHIiXsr35Iy"
      },
      "execution_count": null,
      "outputs": []
    },
    {
      "cell_type": "code",
      "source": [
        "#fecha automaticamente sem precisar do .close()\n",
        "with open('test.txt','wt') as arqv:\n",
        "  arqv.writelines(\"jean\")"
      ],
      "metadata": {
        "id": "qyEUwo8cPMey"
      },
      "execution_count": null,
      "outputs": []
    },
    {
      "cell_type": "code",
      "source": [
        "#.read(c) pode passar o número de caracteres a serem lidos \n",
        "with open('test.txt','rt') as arqv:\n",
        "  lido = arqv.read()\n",
        "  print(lido)"
      ],
      "metadata": {
        "id": "GobOVwo1PyM4"
      },
      "execution_count": null,
      "outputs": []
    },
    {
      "cell_type": "code",
      "source": [
        "#ambiente virtual do collab\n",
        "from os import path\n",
        "arqv_existe=path.exists('test.txt')\n",
        "print(arqv_existe)\n",
        "  "
      ],
      "metadata": {
        "id": "XNcfKi38RMJl",
        "colab": {
          "base_uri": "https://localhost:8080/"
        },
        "outputId": "d4fe15fb-26bb-40a2-c4a0-41bf31bcea9a"
      },
      "execution_count": null,
      "outputs": [
        {
          "output_type": "stream",
          "name": "stdout",
          "text": [
            "True\n"
          ]
        }
      ]
    },
    {
      "cell_type": "code",
      "source": [
        "#excluir arquivo\n",
        "import os\n",
        "os.remove('test.txt')"
      ],
      "metadata": {
        "id": "szlhxCXDYVBC"
      },
      "execution_count": null,
      "outputs": []
    },
    {
      "cell_type": "code",
      "source": [
        "#criar e excluir pastas\n",
        "import os\n",
        "os.mkdir('Pastas_jean')\n"
      ],
      "metadata": {
        "colab": {
          "base_uri": "https://localhost:8080/",
          "height": 200
        },
        "id": "aqK2qSfigTKW",
        "outputId": "c064ae17-d752-4cf6-c870-dddd8809c1a6"
      },
      "execution_count": null,
      "outputs": [
        {
          "output_type": "error",
          "ename": "FileExistsError",
          "evalue": "ignored",
          "traceback": [
            "\u001b[0;31m---------------------------------------------------------------------------\u001b[0m",
            "\u001b[0;31mFileExistsError\u001b[0m                           Traceback (most recent call last)",
            "\u001b[0;32m<ipython-input-68-9f49dea96ead>\u001b[0m in \u001b[0;36m<module>\u001b[0;34m\u001b[0m\n\u001b[1;32m      1\u001b[0m \u001b[0;31m#criar e excluir pastas\u001b[0m\u001b[0;34m\u001b[0m\u001b[0;34m\u001b[0m\u001b[0;34m\u001b[0m\u001b[0m\n\u001b[1;32m      2\u001b[0m \u001b[0;32mimport\u001b[0m \u001b[0mos\u001b[0m\u001b[0;34m\u001b[0m\u001b[0;34m\u001b[0m\u001b[0m\n\u001b[0;32m----> 3\u001b[0;31m \u001b[0mos\u001b[0m\u001b[0;34m.\u001b[0m\u001b[0mmkdir\u001b[0m\u001b[0;34m(\u001b[0m\u001b[0;34m'Pastas_jean'\u001b[0m\u001b[0;34m)\u001b[0m\u001b[0;34m\u001b[0m\u001b[0;34m\u001b[0m\u001b[0m\n\u001b[0m",
            "\u001b[0;31mFileExistsError\u001b[0m: [Errno 17] File exists: 'Pastas_jean'"
          ]
        }
      ]
    },
    {
      "cell_type": "code",
      "source": [
        "os.rmdir('Pastas_jean') #a pasta deve estar vazia"
      ],
      "metadata": {
        "id": "uU3VKSi_hFC9"
      },
      "execution_count": null,
      "outputs": []
    },
    {
      "cell_type": "code",
      "source": [
        "#cria pastas com um arquivo dentro \n",
        "import os\n",
        "for i in range(0,11):\n",
        "  nome_pasta = 'pasta' + str(i)\n",
        "  try:\n",
        "    os.mkdir(nome_pasta)\n",
        "  except:\n",
        "    pass\n",
        "\n",
        "  try:\n",
        "    open(nome_pasta+'/test.txt','wp').close()\n",
        "  except:\n",
        "    pass      "
      ],
      "metadata": {
        "id": "sxY_B8bdjPmT"
      },
      "execution_count": null,
      "outputs": []
    },
    {
      "cell_type": "code",
      "source": [
        "#remove as pastas criadas\n",
        "import os\n",
        "for i in range(0,11):\n",
        "  nome_pasta = 'pasta' + str(i)\n",
        "  try:\n",
        "    os.remove(nome_pasta+'/test.txt')\n",
        "  except:\n",
        "    pass\n",
        "\n",
        "  try:\n",
        "    os.rmdir(nome_pasta)\n",
        "  except:\n",
        "    print('Falha ao remover a pasta:',nome_pasta)"
      ],
      "metadata": {
        "id": "a-LIkyYjkEA4"
      },
      "execution_count": null,
      "outputs": []
    },
    {
      "cell_type": "code",
      "source": [
        "#remove a pastas e seu arqvs internos \n",
        "import shutil\n",
        "for i in range(0,11):\n",
        "  nome_pasta= 'pasta'+str(i)\n",
        "  try:\n",
        "   shutil.rmtree(nome_pasta)\n",
        "  except:\n",
        "    print('falha ao excluir a pasta:', nome_pasta)  \n"
      ],
      "metadata": {
        "id": "JKV2LfQvkuRQ"
      },
      "execution_count": null,
      "outputs": []
    },
    {
      "cell_type": "code",
      "source": [
        "import os \n",
        "files = os.listdir()\n",
        "print(files)"
      ],
      "metadata": {
        "colab": {
          "base_uri": "https://localhost:8080/"
        },
        "id": "OWikdQL5l8XG",
        "outputId": "99119126-0a02-49eb-f1aa-6c732f2b0a84"
      },
      "execution_count": null,
      "outputs": [
        {
          "output_type": "stream",
          "name": "stdout",
          "text": [
            "['.config', '.ipynb_checkpoints', 'file.log', 'sample_data']\n"
          ]
        }
      ]
    },
    {
      "cell_type": "markdown",
      "source": [
        "#Arquivo CSV texto estruturado separado por vírgulas\n"
      ],
      "metadata": {
        "id": "FCbrQ7AsodOg"
      }
    },
    {
      "cell_type": "code",
      "source": [
        "#pode-se usar uma lista separada e escreve-la de uma vez usando o método .writerows()\n",
        "import csv\n",
        "with open('texto.csv','w') as arqv:\n",
        "  escritorCsv = csv.writer(arqv,delimiter=',')\n",
        "  escritorCsv.writerow(['id','nome','descricao'])#primeira linha descritores dos atributos\n",
        "  escritorCsv.writerow(['1','Jean','Foda'])\n",
        "  escritorCsv.writerow(['2','Kelly','SupremeLov'])\n",
        "  escritorCsv.writerow(['3','Skate','esporte'])\n",
        "  escritorCsv.writerow(['4','chica','pet'])\n"
      ],
      "metadata": {
        "id": "an3r9wSIolmd"
      },
      "execution_count": null,
      "outputs": []
    },
    {
      "cell_type": "code",
      "source": [
        "#lendo csv\n",
        "import csv\n",
        "with open('texto.csv','r') as arqv:\n",
        "  leitor = csv.reader(arqv,delimiter=',')\n",
        "  for i in leitor:\n",
        "    print(i)"
      ],
      "metadata": {
        "colab": {
          "base_uri": "https://localhost:8080/"
        },
        "id": "Wj6RWar2rleA",
        "outputId": "046ae085-db25-4c72-9102-ba9ea3cf9666"
      },
      "execution_count": null,
      "outputs": [
        {
          "output_type": "stream",
          "name": "stdout",
          "text": [
            "['id', 'nome', 'descricao']\n",
            "['1', 'Jean', 'Foda']\n",
            "['2', 'Kelly', 'SupremeLov']\n",
            "['3', 'Skate', 'esporte']\n",
            "['4', 'chica', 'pet']\n"
          ]
        }
      ]
    },
    {
      "cell_type": "code",
      "source": [
        "import csv\n",
        "class Pessoa:\n",
        "  def __init__(self, id, nome, profissao):\n",
        "    self.id=id\n",
        "    self.nome=nome\n",
        "    self.profissao=profissao\n",
        "  @staticmethod\n",
        "  def le_pessoas():\n",
        "      pessoas=[]\n",
        "      with open('pessoas.csv','r') as arqv:\n",
        "          leitor = csv.reader(arqv)\n",
        "          for linha in leitor:\n",
        "           pessoa = Pessoa(linha[0],linha[1],linha[2])\n",
        "           pessoas.append(pessoa)\n",
        "      return pessoas    \n",
        "  @staticmethod\n",
        "  def salva_pessoas(*pessoas):\n",
        "      with open(\"pessoas.csv\",\"w\") as arqv:\n",
        "        escritorCsv = csv.writer(arqv, delimiter=',')\n",
        "        for pessoa in pessoas:\n",
        "          escritorCsv.writerow([pessoa.id, pessoa.nome, pessoa.profissao])\n",
        "\n",
        "\n",
        "pessoa1= Pessoa(23,\"jose\",'engenheiro')\n",
        "pessoa2= Pessoa(24,\"maria\",'advogada')\n",
        "pessoa3= Pessoa(25,\"jean\",'skater')\n",
        "pessoa4= Pessoa(26,\"kelly\",'contadora')\n",
        "pessoa5= Pessoa(27,\"wania\",'empresária')      \n",
        "\n",
        "Pessoa.salva_pessoas(pessoa1,pessoa2,pessoa3,pessoa4,pessoa5)\n",
        "lista_pessoas = Pessoa.le_pessoas()\n",
        "\n",
        "for i in lista_pessoas:\n",
        "  print(i.id,i.nome,i.profissao)"
      ],
      "metadata": {
        "id": "_MNnPdjDKahj",
        "colab": {
          "base_uri": "https://localhost:8080/"
        },
        "outputId": "a6ade6b5-bae4-4352-88c6-9d75fb12038f"
      },
      "execution_count": 29,
      "outputs": [
        {
          "output_type": "stream",
          "name": "stdout",
          "text": [
            "23 jose engenheiro\n",
            "24 maria advogada\n",
            "25 jean skater\n",
            "26 kelly contadora\n",
            "27 wania empresária\n"
          ]
        }
      ]
    },
    {
      "cell_type": "markdown",
      "source": [
        "#JSON"
      ],
      "metadata": {
        "id": "HSqvEoMt6zeT"
      }
    },
    {
      "cell_type": "code",
      "source": [
        "import json\n",
        "idades={\n",
        "    \"jean\":34,\n",
        "    \"kelly\":22,\n",
        "    \"wania\":60\n",
        "}\n",
        "#json.dumps() transforma em objeto json\n",
        "print(json.dumps(idades))\n",
        "print(json.dumps(23))\n",
        "print(json.dumps(3.14))\n"
      ],
      "metadata": {
        "colab": {
          "base_uri": "https://localhost:8080/"
        },
        "id": "E2mBA6Vv64Is",
        "outputId": "4159c1b8-1df3-4a23-cfd3-ed187e9153a6"
      },
      "execution_count": 32,
      "outputs": [
        {
          "output_type": "stream",
          "name": "stdout",
          "text": [
            "{\"jean\": 34, \"kelly\": 22, \"wania\": 60}\n",
            "23\n",
            "3.14\n"
          ]
        }
      ]
    },
    {
      "cell_type": "code",
      "source": [
        "import json\n",
        "DadosPessoais = {\n",
        "    'Jean':{\n",
        "        'CPF':'12345678',\n",
        "        'SEXO': 'Masculino',\n",
        "        'Endereco': 'casa 0',\n",
        "        'Idade': 22\n",
        "        \n",
        "    },\n",
        "    'Alway':{\n",
        "        'CPF':'12345679',\n",
        "        'SEXO': 'Masculino',\n",
        "        'Endereco': 'casa 10',\n",
        "        'Idade': 44,\n",
        "        'Filhos': [\"maria\",\"fred\",\"pincha\"]\n",
        "        \n",
        "    }\n",
        "}\n",
        "\n",
        "texto = json.dumps(DadosPessoais, indent=3) #indent = identação espaços\n",
        "print(texto)\n",
        "with open(\"exemplo.json\",\"wt\") as arqv:\n",
        "  arqv.write(texto)"
      ],
      "metadata": {
        "colab": {
          "base_uri": "https://localhost:8080/"
        },
        "id": "xWbwDGx_BhXl",
        "outputId": "96fe484a-9a6c-49c4-9a5b-9ddfa9ac10f5"
      },
      "execution_count": 35,
      "outputs": [
        {
          "output_type": "stream",
          "name": "stdout",
          "text": [
            "{\n",
            "   \"Jean\": {\n",
            "      \"CPF\": \"12345678\",\n",
            "      \"SEXO\": \"Masculino\",\n",
            "      \"Endereco\": \"casa 0\",\n",
            "      \"Idade\": 22\n",
            "   },\n",
            "   \"Alway\": {\n",
            "      \"CPF\": \"12345679\",\n",
            "      \"SEXO\": \"Masculino\",\n",
            "      \"Endereco\": \"casa 10\",\n",
            "      \"Idade\": 44,\n",
            "      \"Filhos\": [\n",
            "         \"maria\",\n",
            "         \"fred\",\n",
            "         \"pincha\"\n",
            "      ]\n",
            "   }\n",
            "}\n"
          ]
        }
      ]
    },
    {
      "cell_type": "code",
      "source": [
        "import json\n",
        "dicionario = None\n",
        "with open(\"exemplo.json\",\"rt\") as arqv:\n",
        "  arqv_lido = arqv.read()\n",
        "  dicionario = json.loads(arqv_lido)\n",
        "\n",
        "print(dicionario)\n",
        "print(type(dicionario))\n",
        "print(dicionario['Alway'][\"CPF\"])"
      ],
      "metadata": {
        "id": "p5DfdLhGFHwj"
      },
      "execution_count": null,
      "outputs": []
    },
    {
      "cell_type": "code",
      "source": [],
      "metadata": {
        "id": "B1bU97hlKja4"
      },
      "execution_count": null,
      "outputs": []
    }
  ]
}